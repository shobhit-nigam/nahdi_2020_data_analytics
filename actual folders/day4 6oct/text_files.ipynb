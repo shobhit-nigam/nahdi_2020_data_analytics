{
 "cells": [
  {
   "cell_type": "code",
   "execution_count": 1,
   "metadata": {},
   "outputs": [],
   "source": [
    "fa = open('names.txt', 'r')      # r --> read"
   ]
  },
  {
   "cell_type": "code",
   "execution_count": 2,
   "metadata": {},
   "outputs": [
    {
     "name": "stdout",
     "output_type": "stream",
     "text": [
      "hegaz\n"
     ]
    }
   ],
   "source": [
    "stra = fa.read(5)\n",
    "print(stra)"
   ]
  },
  {
   "cell_type": "code",
   "execution_count": 3,
   "metadata": {},
   "outputs": [
    {
     "name": "stdout",
     "output_type": "stream",
     "text": [
      "y.mh@\n"
     ]
    }
   ],
   "source": [
    "strb = fa.read(5)\n",
    "print(strb)"
   ]
  },
  {
   "cell_type": "code",
   "execution_count": 4,
   "metadata": {},
   "outputs": [
    {
     "name": "stdout",
     "output_type": "stream",
     "text": [
      "10\n"
     ]
    }
   ],
   "source": [
    "print(fa.tell()) "
   ]
  },
  {
   "cell_type": "code",
   "execution_count": 5,
   "metadata": {},
   "outputs": [
    {
     "data": {
      "text/plain": [
       "0"
      ]
     },
     "execution_count": 5,
     "metadata": {},
     "output_type": "execute_result"
    }
   ],
   "source": [
    "fa.seek(0)   # back to starting position"
   ]
  },
  {
   "cell_type": "code",
   "execution_count": 6,
   "metadata": {},
   "outputs": [
    {
     "data": {
      "text/plain": [
       "23"
      ]
     },
     "execution_count": 6,
     "metadata": {},
     "output_type": "execute_result"
    }
   ],
   "source": [
    "fa.seek(23)"
   ]
  },
  {
   "cell_type": "code",
   "execution_count": 7,
   "metadata": {},
   "outputs": [
    {
     "name": "stdout",
     "output_type": "stream",
     "text": [
      "23\n"
     ]
    }
   ],
   "source": [
    "print(fa.tell())"
   ]
  },
  {
   "cell_type": "code",
   "execution_count": 8,
   "metadata": {},
   "outputs": [],
   "source": [
    "strc = fa.read(3)"
   ]
  },
  {
   "cell_type": "code",
   "execution_count": 9,
   "metadata": {},
   "outputs": [
    {
     "name": "stdout",
     "output_type": "stream",
     "text": [
      "oha\n"
     ]
    }
   ],
   "source": [
    "print(strc)"
   ]
  },
  {
   "cell_type": "code",
   "execution_count": 10,
   "metadata": {},
   "outputs": [
    {
     "data": {
      "text/plain": [
       "0"
      ]
     },
     "execution_count": 10,
     "metadata": {},
     "output_type": "execute_result"
    }
   ],
   "source": [
    "fa.seek(0)"
   ]
  },
  {
   "cell_type": "code",
   "execution_count": 11,
   "metadata": {},
   "outputs": [],
   "source": [
    "strd = fa.read()"
   ]
  },
  {
   "cell_type": "code",
   "execution_count": 12,
   "metadata": {},
   "outputs": [
    {
     "name": "stdout",
     "output_type": "stream",
     "text": [
      "hegazy.mh@nahdi.sa is mohammed\n",
      "alsaif.sz1@nahdi.sa is sultan\n",
      "shobhit.nigam@knowledgehut.co is nigam\n",
      "roopkanth.jj@knowledgehut.net is roop\n"
     ]
    }
   ],
   "source": [
    "print(strd)"
   ]
  },
  {
   "cell_type": "code",
   "execution_count": 13,
   "metadata": {},
   "outputs": [
    {
     "data": {
      "text/plain": [
       "'hellohi'"
      ]
     },
     "execution_count": 13,
     "metadata": {},
     "output_type": "execute_result"
    }
   ],
   "source": [
    "\"hello\" + \"hi\""
   ]
  },
  {
   "cell_type": "code",
   "execution_count": 14,
   "metadata": {},
   "outputs": [
    {
     "data": {
      "text/plain": [
       "0"
      ]
     },
     "execution_count": 14,
     "metadata": {},
     "output_type": "execute_result"
    }
   ],
   "source": [
    "fa.seek(0)"
   ]
  },
  {
   "cell_type": "code",
   "execution_count": 15,
   "metadata": {},
   "outputs": [],
   "source": [
    "stre = fa.readline()"
   ]
  },
  {
   "cell_type": "code",
   "execution_count": 16,
   "metadata": {},
   "outputs": [
    {
     "name": "stdout",
     "output_type": "stream",
     "text": [
      "hegazy.mh@nahdi.sa is mohammed\n",
      "\n"
     ]
    }
   ],
   "source": [
    "print(stre)"
   ]
  },
  {
   "cell_type": "code",
   "execution_count": 17,
   "metadata": {},
   "outputs": [
    {
     "name": "stdout",
     "output_type": "stream",
     "text": [
      "alsaif.sz1@nahdi.sa is sultan\n",
      "\n"
     ]
    }
   ],
   "source": [
    "stre = fa.readline()\n",
    "print(stre)"
   ]
  },
  {
   "cell_type": "code",
   "execution_count": 18,
   "metadata": {},
   "outputs": [
    {
     "data": {
      "text/plain": [
       "61"
      ]
     },
     "execution_count": 18,
     "metadata": {},
     "output_type": "execute_result"
    }
   ],
   "source": [
    "fa.tell()"
   ]
  },
  {
   "cell_type": "code",
   "execution_count": 19,
   "metadata": {},
   "outputs": [],
   "source": [
    "fa.close()"
   ]
  },
  {
   "cell_type": "code",
   "execution_count": 20,
   "metadata": {},
   "outputs": [],
   "source": [
    "fa = open('names.txt', 'r')"
   ]
  },
  {
   "cell_type": "code",
   "execution_count": 21,
   "metadata": {},
   "outputs": [],
   "source": [
    "strf = fa.read()\n",
    "fa.close()"
   ]
  },
  {
   "cell_type": "code",
   "execution_count": 22,
   "metadata": {},
   "outputs": [
    {
     "name": "stdout",
     "output_type": "stream",
     "text": [
      "hegazy.mh@nahdi.sa is mohammed\n",
      "alsaif.sz1@nahdi.sa is sultan\n",
      "shobhit.nigam@knowledgehut.co is nigam\n",
      "roopkanth.jj@knowledgehut.net is roop\n"
     ]
    }
   ],
   "source": [
    "print(strf)"
   ]
  },
  {
   "cell_type": "code",
   "execution_count": 23,
   "metadata": {},
   "outputs": [],
   "source": [
    "listf = strf.splitlines()"
   ]
  },
  {
   "cell_type": "code",
   "execution_count": 24,
   "metadata": {},
   "outputs": [
    {
     "name": "stdout",
     "output_type": "stream",
     "text": [
      "['hegazy.mh@nahdi.sa is mohammed', 'alsaif.sz1@nahdi.sa is sultan', 'shobhit.nigam@knowledgehut.co is nigam', 'roopkanth.jj@knowledgehut.net is roop']\n"
     ]
    }
   ],
   "source": [
    "print(listf)"
   ]
  },
  {
   "cell_type": "code",
   "execution_count": 26,
   "metadata": {},
   "outputs": [
    {
     "data": {
      "text/plain": [
       "['hegazy.mh@nahdi.sa is mohammed',\n",
       " 'alsaif.sz1@nahdi.sa is sultan',\n",
       " 'shobhit.nigam@knowledgehut.co is nigam',\n",
       " 'roopkanth.jj@knowledgehut.net is roop']"
      ]
     },
     "execution_count": 26,
     "metadata": {},
     "output_type": "execute_result"
    }
   ],
   "source": [
    "listf"
   ]
  },
  {
   "cell_type": "code",
   "execution_count": 27,
   "metadata": {},
   "outputs": [],
   "source": [
    "fa.close()"
   ]
  },
  {
   "cell_type": "code",
   "execution_count": 29,
   "metadata": {},
   "outputs": [],
   "source": [
    "fa = open('names.txt', 'r')\n",
    "strf = fa.read()\n",
    "fa.close()\n",
    "\n",
    "strf = strf.replace(\".sa\", \".com\")"
   ]
  },
  {
   "cell_type": "code",
   "execution_count": 30,
   "metadata": {},
   "outputs": [
    {
     "name": "stdout",
     "output_type": "stream",
     "text": [
      "hegazy.mh@nahdi.com is mohammed\n",
      "alsaif.sz1@nahdi.com is sultan\n",
      "shobhit.nigam@knowledgehut.co is nigam\n",
      "roopkanth.jj@knowledgehut.net is roop\n"
     ]
    }
   ],
   "source": [
    "print(strf)"
   ]
  },
  {
   "cell_type": "code",
   "execution_count": 31,
   "metadata": {},
   "outputs": [],
   "source": [
    "fb = open(\"new_text.txt\", \"w\")      # w --> write\n",
    "                                    # will always create a fresh file\n",
    "fb.write(\"good afternoon\\n\")\n",
    "fb.write(\"good tuesday\\n\")\n",
    "fb.close()\n"
   ]
  },
  {
   "cell_type": "code",
   "execution_count": 32,
   "metadata": {},
   "outputs": [],
   "source": [
    "# guido van rossum \n",
    "# 1989 \n",
    "# python3 2009"
   ]
  },
  {
   "cell_type": "code",
   "execution_count": 33,
   "metadata": {},
   "outputs": [
    {
     "name": "stdout",
     "output_type": "stream",
     "text": [
      "3.7.7 (default, Mar 26 2020, 10:32:53) \n",
      "[Clang 4.0.1 (tags/RELEASE_401/final)]\n"
     ]
    }
   ],
   "source": [
    "import sys\n",
    "print(sys.version)"
   ]
  },
  {
   "cell_type": "code",
   "execution_count": 34,
   "metadata": {},
   "outputs": [
    {
     "name": "stdout",
     "output_type": "stream",
     "text": [
      "Collecting package metadata (current_repodata.json): done\n",
      "Solving environment: done\n",
      "\n",
      "## Package Plan ##\n",
      "\n",
      "  environment location: /Users/shobhit/opt/anaconda3\n",
      "\n",
      "\n",
      "The following packages will be downloaded:\n",
      "\n",
      "    package                    |            build\n",
      "    ---------------------------|-----------------\n",
      "    _anaconda_depends-2020.07  |           py37_0           6 KB\n",
      "    aiohttp-3.6.2              |   py37h1de35cc_0         513 KB\n",
      "    appscript-1.1.1            |   py37haf1e3a3_0         130 KB\n",
      "    argon2-cffi-20.1.0         |   py37haf1e3a3_1          44 KB\n",
      "    asn1crypto-1.4.0           |             py_0          80 KB\n",
      "    astroid-2.4.2              |           py37_0         279 KB\n",
      "    astropy-4.0.1.post1        |   py37h01d97ff_1         6.0 MB\n",
      "    async-timeout-3.0.1        |           py37_0          12 KB\n",
      "    async_generator-1.10       |   py37h28b3542_0          39 KB\n",
      "    atomicwrites-1.4.0         |             py_0          11 KB\n",
      "    attrs-20.2.0               |             py_0          42 KB\n",
      "    autopep8-1.5.4             |             py_0          42 KB\n",
      "    backcall-0.2.0             |             py_0          15 KB\n",
      "    beautifulsoup4-4.9.3       |     pyhb0f4dca_0          91 KB\n",
      "    bitarray-1.5.3             |   py37haf1e3a3_0          90 KB\n",
      "    bleach-3.2.1               |             py_0         112 KB\n",
      "    blosc-1.20.0               |       hab81aa3_0          56 KB\n",
      "    bokeh-2.2.1                |           py37_0         5.4 MB\n",
      "    bottleneck-1.3.2           |   py37hf1fa96c_1         107 KB\n",
      "    brotlipy-0.7.0             |py37haf1e3a3_1000         329 KB\n",
      "    cachetools-4.1.1           |             py_0          12 KB\n",
      "    catalogue-1.0.0            |           py37_1          15 KB\n",
      "    click-7.1.2                |             py_0          71 KB\n",
      "    cloudpickle-1.6.0          |             py_0          30 KB\n",
      "    conda-4.8.5                |           py37_0         2.9 MB\n",
      "    conda-build-3.20.3         |           py37_0         536 KB\n",
      "    conda-package-handling-1.6.1|   py37h1de35cc_0         1.3 MB\n",
      "    cryptography-3.1.1         |   py37hddc9c9b_0         544 KB\n",
      "    curl-7.71.1                |       hb0a8c7a_1         129 KB\n",
      "    cymem-2.0.3                |   py37hb1e8313_0          32 KB\n",
      "    cython-0.29.21             |   py37hb1e8313_0         1.8 MB\n",
      "    cython-blis-0.4.1          |   py37haf1e3a3_1         1.1 MB\n",
      "    cytoolz-0.11.0             |   py37haf1e3a3_0         289 KB\n",
      "    dask-2.29.0                |             py_0           5 KB\n",
      "    dask-core-2.29.0           |             py_0         604 KB\n",
      "    dbus-1.13.16               |       h18a8e69_0         451 KB\n",
      "    diff-match-patch-20200713  |             py_0          36 KB\n",
      "    distributed-2.29.0         |           py37_0        1005 KB\n",
      "    docutils-0.16              |           py37_1         667 KB\n",
      "    et_xmlfile-1.0.1           |          py_1001          12 KB\n",
      "    expat-2.2.9                |       hb1e8313_2         112 KB\n",
      "    flake8-3.8.4               |             py_0         128 KB\n",
      "    flask-1.1.2                |             py_0          78 KB\n",
      "    freetype-2.10.2            |       ha233b18_0         570 KB\n",
      "    fribidi-1.0.10             |       haf1e3a3_0          63 KB\n",
      "    fsspec-0.8.0               |             py_0          70 KB\n",
      "    future-0.18.2              |           py37_1         630 KB\n",
      "    gensim-3.8.0               |   py37h6440ff4_0        18.4 MB\n",
      "    gevent-20.9.0              |   py37haf1e3a3_0         1.4 MB\n",
      "    google-api-core-1.22.2     |           py37_0          98 KB\n",
      "    google-auth-1.22.0         |             py_0          61 KB\n",
      "    google-cloud-core-1.4.2    |             py_0          25 KB\n",
      "    google-cloud-storage-1.31.0|             py_0          65 KB\n",
      "    google-crc32c-1.0.0        |   py37haf1e3a3_0          23 KB\n",
      "    google-resumable-media-1.0.0|             py_1          38 KB\n",
      "    googleapis-common-protos-1.52.0|           py37_0          82 KB\n",
      "    graphite2-1.3.14           |       h38d11af_0          80 KB\n",
      "    greenlet-0.4.17            |   py37haf1e3a3_0          20 KB\n",
      "    html5lib-1.1               |             py_0          93 KB\n",
      "    icu-58.2                   |       h0a44026_3        10.1 MB\n",
      "    idna-2.10                  |             py_0          50 KB\n",
      "    imageio-2.9.0              |             py_0         3.0 MB\n",
      "    importlib-metadata-1.7.0   |           py37_0          52 KB\n",
      "    importlib_metadata-1.7.0   |                0          11 KB\n",
      "    iniconfig-1.0.1            |             py_0           8 KB\n",
      "    intervaltree-3.1.0         |             py_0          26 KB\n",
      "    ipykernel-5.3.4            |   py37h5ca1d4c_0         182 KB\n",
      "    ipython-7.18.1             |   py37h5ca1d4c_0         989 KB\n",
      "    ipywidgets-7.5.1           |             py_1          98 KB\n",
      "    isort-5.5.4                |           py37_0         144 KB\n",
      "    jinja2-2.11.2              |             py_0         103 KB\n",
      "    jmespath-0.10.0            |             py_0          23 KB\n",
      "    joblib-0.17.0              |             py_0         206 KB\n",
      "    json5-0.9.5                |             py_0          22 KB\n",
      "    jupyter_client-6.1.7       |             py_0          77 KB\n",
      "    jupyter_console-6.2.0      |             py_0          26 KB\n",
      "    jupyterlab-2.2.6           |             py_0         3.4 MB\n",
      "    jupyterlab_pygments-0.1.2  |             py_0           8 KB\n",
      "    jupyterlab_server-1.2.0    |             py_0          25 KB\n",
      "    keyring-21.4.0             |           py37_1          52 KB\n",
      "    kiwisolver-1.2.0           |   py37h04f5b5a_0          55 KB\n",
      "    krb5-1.18.2                |       h75d18d8_0         1.1 MB\n",
      "    lcms2-2.11                 |       h92f6f08_0         278 KB\n",
      "    libarchive-3.4.2           |       haa3ed63_0         711 KB\n",
      "    libcrc32c-1.1.1            |       hb1e8313_2          20 KB\n",
      "    libcurl-7.71.1             |       h8a08a2b_1         289 KB\n",
      "    libcxx-10.0.0              |                1         760 KB\n",
      "    libedit-3.1.20191231       |       h1de35cc_1          96 KB\n",
      "    libffi-3.2.1               |    h0a44026_1007          43 KB\n",
      "    libiconv-1.16              |       h1de35cc_0         693 KB\n",
      "    liblief-0.10.1             |       h0a44026_0         1.5 MB\n",
      "    libllvm10-10.0.1           |       h76017ad_5        16.4 MB\n",
      "    libllvm9-9.0.1             |       h21ff451_1        15.4 MB\n",
      "    libprotobuf-3.13.0         |       hab81aa3_0         1.7 MB\n",
      "    libsodium-1.0.18           |       h1de35cc_0         236 KB\n",
      "    libtiff-4.1.0              |       hcb84e12_1         405 KB\n",
      "    libxml2-2.9.10             |       h3b9e6c8_1         1.1 MB\n",
      "    libxslt-1.1.34             |       h83b36ba_0         395 KB\n",
      "    llvm-openmp-10.0.0         |       h28b9765_0         236 KB\n",
      "    llvmlite-0.34.0            |   py37h739e7dc_4         248 KB\n",
      "    lxml-4.5.2                 |   py37h63b7cb6_0         1.1 MB\n",
      "    lz4-c-1.9.2                |       hb1e8313_1         142 KB\n",
      "    lzo-2.10                   |       haf1e3a3_2         141 KB\n",
      "    matplotlib-3.3.1           |                0          24 KB\n",
      "    matplotlib-base-3.3.1      |   py37h181983e_0         5.1 MB\n",
      "    mkl_fft-1.2.0              |   py37hc64f4ea_0         141 KB\n",
      "    mkl_random-1.1.1           |   py37h959d312_0         284 KB\n",
      "    mock-4.0.2                 |             py_0          32 KB\n",
      "    more-itertools-8.5.0       |             py_0          43 KB\n",
      "    mpfr-4.0.2                 |       h9066e36_1         433 KB\n",
      "    multidict-4.7.6            |   py37haf1e3a3_1          58 KB\n",
      "    murmurhash-1.0.2           |   py37h0a44026_0          23 KB\n",
      "    nbclient-0.5.0             |             py_0          58 KB\n",
      "    nbconvert-6.0.7            |           py37_0         484 KB\n",
      "    nbformat-5.0.7             |             py_0          89 KB\n",
      "    ncurses-6.2                |       h0a44026_1         749 KB\n",
      "    nest-asyncio-1.4.1         |             py_0          10 KB\n",
      "    networkx-2.5               |             py_0         1.1 MB\n",
      "    notebook-6.1.4             |           py37_0         4.1 MB\n",
      "    numba-0.51.2               |   py37h959d312_1         3.1 MB\n",
      "    numpy-1.19.1               |   py37h3b9f5b6_0          21 KB\n",
      "    numpy-base-1.19.1          |   py37hcfb5961_0         4.0 MB\n",
      "    numpydoc-1.1.0             |             py_0          42 KB\n",
      "    openpyxl-3.0.5             |             py_0         158 KB\n",
      "    openssl-1.1.1h             |       haf1e3a3_0         2.2 MB\n",
      "    packaging-20.4             |             py_0          36 KB\n",
      "    pandas-1.1.2               |   py37hb1e8313_0         7.8 MB\n",
      "    pandoc-2.10.1              |                0        13.8 MB\n",
      "    path-15.0.0                |           py37_0          38 KB\n",
      "    path.py-12.5.0             |                0           4 KB\n",
      "    pcre-8.44                  |       hb1e8313_0         185 KB\n",
      "    pillow-7.2.0               |   py37ha54b6ba_0         581 KB\n",
      "    pip-20.2.3                 |           py37_0         1.7 MB\n",
      "    pixman-0.40.0              |       haf1e3a3_0         340 KB\n",
      "    plac-0.9.6                 |           py37_1          40 KB\n",
      "    preshed-3.0.2              |   py37h0a44026_1          82 KB\n",
      "    prometheus_client-0.8.0    |             py_0          47 KB\n",
      "    prompt-toolkit-3.0.7       |             py_0         248 KB\n",
      "    prompt_toolkit-3.0.7       |                0          12 KB\n",
      "    protobuf-3.13.0            |   py37hb1e8313_1         632 KB\n",
      "    psutil-5.7.2               |   py37haf1e3a3_0         337 KB\n",
      "    py-1.9.0                   |             py_0          79 KB\n",
      "    py-lief-0.10.1             |   py37haf313ee_0        1022 KB\n",
      "    pyasn1-0.4.8               |             py_0          57 KB\n",
      "    pyasn1-modules-0.2.8       |             py_0          72 KB\n",
      "    pycodestyle-2.6.0          |             py_0          43 KB\n",
      "    pycparser-2.20             |             py_2          94 KB\n",
      "    pycrypto-2.6.1             |  py37haf1e3a3_10         365 KB\n",
      "    pydocstyle-5.1.1           |             py_0          38 KB\n",
      "    pyflakes-2.2.0             |             py_0          61 KB\n",
      "    pygments-2.7.1             |             py_0         671 KB\n",
      "    pylint-2.6.0               |           py37_0         436 KB\n",
      "    pymongo-3.11.0             |   py37hb1e8313_0         1.2 MB\n",
      "    pyopenssl-19.1.0           |             py_1          48 KB\n",
      "    pyparsing-2.4.7            |             py_0          65 KB\n",
      "    pyrsistent-0.17.3          |   py37haf1e3a3_0          87 KB\n",
      "    pytest-6.1.0               |           py37_0         408 KB\n",
      "    python-graphviz-0.14.1     |             py_0          20 KB\n",
      "    python-libarchive-c-2.9    |             py_0          46 KB\n",
      "    python.app-2               |          py37_10         1.4 MB\n",
      "    pytz-2020.1                |             py_0         184 KB\n",
      "    pywavelets-1.1.1           |   py37haf1e3a3_2         3.4 MB\n",
      "    pyyaml-5.3.1               |   py37haf1e3a3_1         165 KB\n",
      "    pyzmq-19.0.2               |   py37hb1e8313_1         397 KB\n",
      "    qdarkstyle-2.8.1           |             py_0         176 KB\n",
      "    qtawesome-0.7.2            |             py_0         724 KB\n",
      "    qtconsole-4.7.7            |             py_0          96 KB\n",
      "    regex-2020.7.14            |   py37haf1e3a3_0         315 KB\n",
      "    requests-2.24.0            |             py_0          56 KB\n",
      "    ripgrep-12.1.1             |                0         1.3 MB\n",
      "    rope-0.17.0                |             py_0         127 KB\n",
      "    rsa-4.6                    |             py_0          26 KB\n",
      "    rtree-0.9.4                |           py37_1          47 KB\n",
      "    ruamel_yaml-0.15.87        |   py37haf1e3a3_1         235 KB\n",
      "    s3transfer-0.1.13          |           py37_0          81 KB\n",
      "    scikit-learn-0.23.2        |   py37h959d312_0         4.7 MB\n",
      "    scipy-1.5.2                |   py37h912ce22_0        13.2 MB\n",
      "    seaborn-0.11.0             |             py_0         210 KB\n",
      "    setuptools-50.3.0          |           py37_0         737 KB\n",
      "    six-1.15.0                 |             py_0          13 KB\n",
      "    smart_open-2.2.0           |             py_0          78 KB\n",
      "    snappy-1.1.8               |       hb1e8313_0          54 KB\n",
      "    sortedcollections-1.2.1    |             py_0          13 KB\n",
      "    sortedcontainers-2.2.2     |             py_0          29 KB\n",
      "    soupsieve-2.0.1            |             py_0          33 KB\n",
      "    spacy-2.3.2                |   py37h879752b_0         4.3 MB\n",
      "    sphinx-3.2.1               |             py_0         1.1 MB\n",
      "    sphinxcontrib-websupport-1.2.4|             py_0          34 KB\n",
      "    spyder-kernels-1.9.4       |           py37_0          98 KB\n",
      "    sqlalchemy-1.3.19          |   py37haf1e3a3_0         1.5 MB\n",
      "    sqlite-3.33.0              |       hffcf06c_0         1.3 MB\n",
      "    srsly-1.0.2                |   py37h6de7cb9_0         180 KB\n",
      "    statsmodels-0.11.1         |   py37haf1e3a3_0         7.4 MB\n",
      "    sympy-1.6.2                |           py37_0         8.6 MB\n",
      "    tbb-2020.3                 |       h879752b_0         147 KB\n",
      "    tblib-1.7.0                |             py_0          16 KB\n",
      "    thinc-7.4.1                |   py37h879752b_0         1.0 MB\n",
      "    threadpoolctl-2.1.0        |     pyh5ca1d4c_0          17 KB\n",
      "    tk-8.6.10                  |       hb0a8c7a_0         3.0 MB\n",
      "    toml-0.10.1                |             py_0          20 KB\n",
      "    toolz-0.11.1               |             py_0          48 KB\n",
      "    tqdm-4.50.0                |             py_0          56 KB\n",
      "    traitlets-5.0.4            |             py_0          82 KB\n",
      "    typed-ast-1.4.1            |   py37h1de35cc_0         184 KB\n",
      "    typing_extensions-3.7.4.3  |             py_0          28 KB\n",
      "    urllib3-1.25.10            |             py_0          98 KB\n",
      "    wasabi-0.8.0               |             py_0          22 KB\n",
      "    watchdog-0.10.3            |   py37haf1e3a3_0          97 KB\n",
      "    wcwidth-0.2.5              |             py_0          29 KB\n",
      "    werkzeug-1.0.1             |             py_0         240 KB\n",
      "    wheel-0.35.1               |             py_0          37 KB\n",
      "    wurlitzer-2.0.1            |           py37_0          14 KB\n",
      "    xlsxwriter-1.3.4           |             py_0         108 KB\n",
      "    xlwings-0.20.7             |           py37_0         427 KB\n",
      "    xz-5.2.5                   |       h1de35cc_0         240 KB\n",
      "    yaml-0.2.5                 |       haf1e3a3_0          72 KB\n",
      "    yapf-0.30.0                |             py_0         127 KB\n",
      "    yarl-1.5.1                 |   py37haf1e3a3_0         128 KB\n",
      "    zeromq-4.3.2               |       hb1e8313_3         421 KB\n",
      "    zipp-3.1.0                 |             py_0          13 KB\n",
      "    zope-1.0                   |           py37_1           4 KB\n",
      "    zope.event-4.4             |           py37_0           9 KB\n",
      "    zope.interface-5.1.0       |   py37haf1e3a3_0         276 KB\n",
      "    zstd-1.4.5                 |       h41d2c2f_0         442 KB\n",
      "    ------------------------------------------------------------\n",
      "                                           Total:       220.5 MB\n",
      "\n",
      "The following NEW packages will be INSTALLED:\n",
      "\n",
      "  aiohttp            pkgs/main/osx-64::aiohttp-3.6.2-py37h1de35cc_0\n",
      "  argon2-cffi        pkgs/main/osx-64::argon2-cffi-20.1.0-py37haf1e3a3_1\n",
      "  async-timeout      pkgs/main/osx-64::async-timeout-3.0.1-py37_0\n",
      "  async_generator    pkgs/main/osx-64::async_generator-1.10-py37h28b3542_0\n",
      "  brotlipy           pkgs/main/osx-64::brotlipy-0.7.0-py37haf1e3a3_1000\n",
      "  google-crc32c      pkgs/main/osx-64::google-crc32c-1.0.0-py37haf1e3a3_0\n",
      "  importlib-metadata pkgs/main/osx-64::importlib-metadata-1.7.0-py37_0\n",
      "  iniconfig          pkgs/main/noarch::iniconfig-1.0.1-py_0\n",
      "  jupyterlab_pygmen~ pkgs/main/noarch::jupyterlab_pygments-0.1.2-py_0\n",
      "  lcms2              pkgs/main/osx-64::lcms2-2.11-h92f6f08_0\n",
      "  libcrc32c          pkgs/main/osx-64::libcrc32c-1.1.1-hb1e8313_2\n",
      "  libllvm10          pkgs/main/osx-64::libllvm10-10.0.1-h76017ad_5\n",
      "  libllvm9           pkgs/main/osx-64::libllvm9-9.0.1-h21ff451_1\n",
      "  multidict          pkgs/main/osx-64::multidict-4.7.6-py37haf1e3a3_1\n",
      "  nbclient           pkgs/main/noarch::nbclient-0.5.0-py_0\n",
      "  nest-asyncio       pkgs/main/noarch::nest-asyncio-1.4.1-py_0\n",
      "  threadpoolctl      pkgs/main/noarch::threadpoolctl-2.1.0-pyh5ca1d4c_0\n",
      "  toml               pkgs/main/noarch::toml-0.10.1-py_0\n",
      "  typed-ast          pkgs/main/osx-64::typed-ast-1.4.1-py37h1de35cc_0\n",
      "  yarl               pkgs/main/osx-64::yarl-1.5.1-py37haf1e3a3_0\n",
      "  zope               pkgs/main/osx-64::zope-1.0-py37_1\n",
      "  zope.event         pkgs/main/osx-64::zope.event-4.4-py37_0\n",
      "  zope.interface     pkgs/main/osx-64::zope.interface-5.1.0-py37haf1e3a3_0\n",
      "\n",
      "The following packages will be REMOVED:\n",
      "\n",
      "  backports.os-0.1.1-py37_0\n",
      "  bz2file-0.98-py_0\n",
      "  hypothesis-5.5.4-py_0\n",
      "  libcxxabi-4.0.1-hcfea43d_1\n",
      "  pytest-arraydiff-0.3-py37h39e3cac_0\n",
      "  pytest-astropy-0.8.0-py_0\n",
      "  pytest-astropy-header-0.1.2-py_0\n",
      "  pytest-doctestplus-0.5.0-py_0\n",
      "  pytest-openfiles-0.4.0-py_0\n",
      "  pytest-remotedata-0.3.2-py37_0\n",
      "  python_abi-3.7-1_cp37m\n",
      "\n",
      "The following packages will be UPDATED:\n",
      "\n",
      "  _anaconda_depends                          2019.03-py37_0 --> 2020.07-py37_0\n",
      "  appscript                            1.1.0-py37h1de35cc_0 --> 1.1.1-py37haf1e3a3_0\n",
      "  asn1crypto         pkgs/main/osx-64::asn1crypto-1.3.0-py~ --> pkgs/main/noarch::asn1crypto-1.4.0-py_0\n",
      "  astroid                                      2.3.3-py37_0 --> 2.4.2-py37_0\n",
      "  astropy                        4.0.1.post1-py37h1de35cc_0 --> 4.0.1.post1-py37h01d97ff_1\n",
      "  atomicwrites       pkgs/main/osx-64::atomicwrites-1.3.0-~ --> pkgs/main/noarch::atomicwrites-1.4.0-py_0\n",
      "  attrs                                         19.3.0-py_0 --> 20.2.0-py_0\n",
      "  autopep8                                       1.4.4-py_0 --> 1.5.4-py_0\n",
      "  backcall           pkgs/main/osx-64::backcall-0.1.0-py37~ --> pkgs/main/noarch::backcall-0.2.0-py_0\n",
      "  beautifulsoup4     pkgs/main/osx-64::beautifulsoup4-4.8.~ --> pkgs/main/noarch::beautifulsoup4-4.9.3-pyhb0f4dca_0\n",
      "  bitarray                             1.2.1-py37h1de35cc_0 --> 1.5.3-py37haf1e3a3_0\n",
      "  bleach              pkgs/main/osx-64::bleach-3.1.0-py37_0 --> pkgs/main/noarch::bleach-3.2.1-py_0\n",
      "  blosc                                   1.16.3-hd9629dc_0 --> 1.20.0-hab81aa3_0\n",
      "  bokeh                                        2.0.1-py37_0 --> 2.2.1-py37_0\n",
      "  bottleneck                           1.3.2-py37h776bbcc_0 --> 1.3.2-py37hf1fa96c_1\n",
      "  cachetools             conda-forge::cachetools-3.1.1-py_0 --> pkgs/main::cachetools-4.1.1-py_0\n",
      "  catalogue          conda-forge/noarch::catalogue-1.0.0-p~ --> pkgs/main/osx-64::catalogue-1.0.0-py37_1\n",
      "  click                                          7.1.1-py_0 --> 7.1.2-py_0\n",
      "  cloudpickle                                    1.3.0-py_0 --> 1.6.0-py_0\n",
      "  conda                                        4.8.4-py37_0 --> 4.8.5-py37_0\n",
      "  conda-build                                 3.18.9-py37_3 --> 3.20.3-py37_0\n",
      "  conda-package-han~                   1.6.0-py37h1de35cc_0 --> 1.6.1-py37h1de35cc_0\n",
      "  cryptography                           2.8-py37ha12b0ac_0 --> 3.1.1-py37hddc9c9b_0\n",
      "  curl                                    7.69.1-ha441bb4_0 --> 7.71.1-hb0a8c7a_1\n",
      "  cython                             0.29.15-py37h0a44026_0 --> 0.29.21-py37hb1e8313_0\n",
      "  cytoolz                             0.10.1-py37h1de35cc_0 --> 0.11.0-py37haf1e3a3_0\n",
      "  dask                                          2.14.0-py_0 --> 2.29.0-py_0\n",
      "  dask-core                                     2.14.0-py_0 --> 2.29.0-py_0\n",
      "  dbus                                   1.13.12-h90a0687_0 --> 1.13.16-h18a8e69_0\n",
      "  diff-match-patch                            20181111-py_0 --> 20200713-py_0\n",
      "  distributed                                 2.14.0-py37_0 --> 2.29.0-py37_0\n",
      "  docutils                                      0.16-py37_0 --> 0.16-py37_1\n",
      "  et_xmlfile         pkgs/main/osx-64::et_xmlfile-1.0.1-py~ --> pkgs/main/noarch::et_xmlfile-1.0.1-py_1001\n",
      "  expat                                    2.2.6-h0a44026_0 --> 2.2.9-hb1e8313_2\n",
      "  flake8              pkgs/main/osx-64::flake8-3.7.9-py37_0 --> pkgs/main/noarch::flake8-3.8.4-py_0\n",
      "  flask                                          1.1.1-py_1 --> 1.1.2-py_0\n",
      "  freetype                                 2.9.1-hb4e5f40_0 --> 2.10.2-ha233b18_0\n",
      "  fribidi                                  1.0.5-h1de35cc_0 --> 1.0.10-haf1e3a3_0\n",
      "  fsspec                                         0.7.1-py_0 --> 0.8.0-py_0\n",
      "  future                                      0.18.2-py37_0 --> 0.18.2-py37_1\n",
      "  gevent                               1.4.0-py37h1de35cc_0 --> 20.9.0-py37haf1e3a3_0\n",
      "  google-api-core    conda-forge::google-api-core-1.17.0-p~ --> pkgs/main::google-api-core-1.22.2-py37_0\n",
      "  google-auth        conda-forge::google-auth-1.14.2-pyh9f~ --> pkgs/main::google-auth-1.22.0-py_0\n",
      "  google-cloud-core  conda-forge::google-cloud-core-1.3.0-~ --> pkgs/main::google-cloud-core-1.4.2-py_0\n",
      "  google-cloud-stor~ conda-forge::google-cloud-storage-1.2~ --> pkgs/main::google-cloud-storage-1.31.0-py_0\n",
      "  google-resumable-~ conda-forge::google-resumable-media-0~ --> pkgs/main::google-resumable-media-1.0.0-py_1\n",
      "  googleapis-common~ conda-forge::googleapis-common-protos~ --> pkgs/main::googleapis-common-protos-1.52.0-py37_0\n",
      "  graphite2                               1.3.13-h2098e52_0 --> 1.3.14-h38d11af_0\n",
      "  greenlet                            0.4.15-py37h1de35cc_0 --> 0.4.17-py37haf1e3a3_0\n",
      "  html5lib           pkgs/main/osx-64::html5lib-1.0.1-py37~ --> pkgs/main/noarch::html5lib-1.1-py_0\n",
      "  icu                                       58.2-h4b95b61_1 --> 58.2-h0a44026_3\n",
      "  idna                                             2.9-py_1 --> 2.10-py_0\n",
      "  imageio                                        2.8.0-py_0 --> 2.9.0-py_0\n",
      "  importlib_metadata pkgs/main/osx-64::importlib_metadata-~ --> pkgs/main/noarch::importlib_metadata-1.7.0-0\n",
      "  intervaltree                                   3.0.2-py_0 --> 3.1.0-py_0\n",
      "  ipykernel                            5.1.4-py37h39e3cac_0 --> 5.3.4-py37h5ca1d4c_0\n",
      "  ipython                             7.13.0-py37h5ca1d4c_0 --> 7.18.1-py37h5ca1d4c_0\n",
      "  ipywidgets                                     7.5.1-py_0 --> 7.5.1-py_1\n",
      "  isort                                       4.3.21-py37_0 --> 5.5.4-py37_0\n",
      "  jinja2                                        2.11.1-py_0 --> 2.11.2-py_0\n",
      "  jmespath                 conda-forge::jmespath-0.9.5-py_0 --> pkgs/main::jmespath-0.10.0-py_0\n",
      "  joblib                                        0.14.1-py_0 --> 0.17.0-py_0\n",
      "  json5                                          0.9.4-py_0 --> 0.9.5-py_0\n",
      "  jupyter_client                                 6.1.2-py_0 --> 6.1.7-py_0\n",
      "  jupyter_console                                6.1.0-py_0 --> 6.2.0-py_0\n",
      "  jupyterlab                             1.2.6-pyhf63ae98_0 --> 2.2.6-py_0\n",
      "  jupyterlab_server                              1.1.0-py_0 --> 1.2.0-py_0\n",
      "  keyring                                     21.1.1-py37_2 --> 21.4.0-py37_1\n",
      "  kiwisolver                           1.1.0-py37h0a44026_0 --> 1.2.0-py37h04f5b5a_0\n",
      "  krb5                                    1.17.1-hddcf347_0 --> 1.18.2-h75d18d8_0\n",
      "  libarchive                               3.3.3-h786848e_5 --> 3.4.2-haa3ed63_0\n",
      "  libcurl                                 7.69.1-h051b688_0 --> 7.71.1-h8a08a2b_1\n",
      "  libedit                           3.1.20181209-hb402a30_0 --> 3.1.20191231-h1de35cc_1\n",
      "  libffi                                   3.2.1-h475c297_4 --> 3.2.1-h0a44026_1007\n",
      "  libiconv                                  1.15-hdd342a3_7 --> 1.16-h1de35cc_0\n",
      "  liblief                                  0.9.0-h2a1bed3_2 --> 0.10.1-h0a44026_0\n",
      "  libprotobuf        conda-forge::libprotobuf-3.11.4-hd174~ --> pkgs/main::libprotobuf-3.13.0-hab81aa3_0\n",
      "  libsodium                               1.0.16-h3efe00b_0 --> 1.0.18-h1de35cc_0\n",
      "  libtiff                                  4.1.0-hcb84e12_0 --> 4.1.0-hcb84e12_1\n",
      "  libxml2                                  2.9.9-hf6e021a_1 --> 2.9.10-h3b9e6c8_1\n",
      "  libxslt                                 1.1.33-h33a18ac_0 --> 1.1.34-h83b36ba_0\n",
      "  llvm-openmp                              4.0.1-hcfea43d_1 --> 10.0.0-h28b9765_0\n",
      "  llvmlite                            0.31.0-py37h1341992_0 --> 0.34.0-py37h739e7dc_4\n",
      "  lxml                                 4.5.0-py37hef8c89e_0 --> 4.5.2-py37h63b7cb6_0\n",
      "  lz4-c                                  1.8.1.2-h1de35cc_0 --> 1.9.2-hb1e8313_1\n",
      "  matplotlib                                   3.1.3-py37_0 --> 3.3.1-0\n",
      "  matplotlib-base                      3.1.3-py37h9aa3819_0 --> 3.3.1-py37h181983e_0\n",
      "  mkl_fft                             1.0.15-py37h5e564d8_0 --> 1.2.0-py37hc64f4ea_0\n",
      "  mkl_random                           1.1.0-py37ha771720_0 --> 1.1.1-py37h959d312_0\n",
      "  mock                                           4.0.1-py_0 --> 4.0.2-py_0\n",
      "  more-itertools                                 8.2.0-py_0 --> 8.5.0-py_0\n",
      "  mpfr                                     4.0.1-h3018a27_3 --> 4.0.2-h9066e36_1\n",
      "  murmurhash         conda-forge::murmurhash-1.0.0-py37h57~ --> pkgs/main::murmurhash-1.0.2-py37h0a44026_0\n",
      "  nbconvert                                    5.6.1-py37_0 --> 6.0.7-py37_0\n",
      "  nbformat                                       5.0.4-py_0 --> 5.0.7-py_0\n",
      "  ncurses                                    6.2-h0a44026_0 --> 6.2-h0a44026_1\n",
      "  networkx                                         2.4-py_0 --> 2.5-py_0\n",
      "  notebook                                     6.0.3-py37_0 --> 6.1.4-py37_0\n",
      "  numba                               0.48.0-py37h6c726b0_0 --> 0.51.2-py37h959d312_1\n",
      "  numpy                               1.18.1-py37h7241aed_0 --> 1.19.1-py37h3b9f5b6_0\n",
      "  numpy-base                          1.18.1-py37h6575580_1 --> 1.19.1-py37hcfb5961_0\n",
      "  numpydoc                                       0.9.2-py_0 --> 1.1.0-py_0\n",
      "  openpyxl                                       3.0.3-py_0 --> 3.0.5-py_0\n",
      "  openssl                                 1.1.1g-h1de35cc_0 --> 1.1.1h-haf1e3a3_0\n",
      "  packaging                                       20.3-py_0 --> 20.4-py_0\n",
      "  pandas                               1.0.3-py37h6c726b0_0 --> 1.1.2-py37hb1e8313_0\n",
      "  pandoc                                          2.2.3.2-0 --> 2.10.1-0\n",
      "  path                                        13.1.0-py37_0 --> 15.0.0-py37_0\n",
      "  path.py                                          12.4.0-0 --> 12.5.0-0\n",
      "  pcre                                      8.43-h0a44026_0 --> 8.44-hb1e8313_0\n",
      "  pillow                               7.0.0-py37h4655f20_0 --> 7.2.0-py37ha54b6ba_0\n",
      "  pip                                         20.0.2-py37_1 --> 20.2.3-py37_0\n",
      "  pixman                                  0.38.0-h1de35cc_0 --> 0.40.0-haf1e3a3_0\n",
      "  plac                                         0.9.6-py37_0 --> 0.9.6-py37_1\n",
      "  prometheus_client                              0.7.1-py_0 --> 0.8.0-py_0\n",
      "  prompt-toolkit                                 3.0.4-py_0 --> 3.0.7-py_0\n",
      "  prompt_toolkit                                    3.0.4-0 --> 3.0.7-0\n",
      "  protobuf           conda-forge::protobuf-3.11.4-py37h570~ --> pkgs/main::protobuf-3.13.0-py37hb1e8313_1\n",
      "  psutil                               5.7.0-py37h1de35cc_0 --> 5.7.2-py37haf1e3a3_0\n",
      "  py                                             1.8.1-py_0 --> 1.9.0-py_0\n",
      "  py-lief                              0.9.0-py37h1413db1_2 --> 0.10.1-py37haf313ee_0\n",
      "  pyasn1-modules     conda-forge::pyasn1-modules-0.2.7-py_0 --> pkgs/main::pyasn1-modules-0.2.8-py_0\n",
      "  pycodestyle        pkgs/main/osx-64::pycodestyle-2.5.0-p~ --> pkgs/main/noarch::pycodestyle-2.6.0-py_0\n",
      "  pycparser                                       2.20-py_0 --> 2.20-py_2\n",
      "  pycrypto                             2.6.1-py37h1de35cc_9 --> 2.6.1-py37haf1e3a3_10\n",
      "  pydocstyle                                     4.0.1-py_0 --> 5.1.1-py_0\n",
      "  pyflakes           pkgs/main/osx-64::pyflakes-2.1.1-py37~ --> pkgs/main/noarch::pyflakes-2.2.0-py_0\n",
      "  pygments                                       2.6.1-py_0 --> 2.7.1-py_0\n",
      "  pylint                                       2.4.4-py37_0 --> 2.6.0-py37_0\n",
      "  pymongo                              3.9.0-py37h0a44026_0 --> 3.11.0-py37hb1e8313_0\n",
      "  pyopenssl          pkgs/main/osx-64::pyopenssl-19.1.0-py~ --> pkgs/main/noarch::pyopenssl-19.1.0-py_1\n",
      "  pyparsing                                      2.4.6-py_0 --> 2.4.7-py_0\n",
      "  pyrsistent                          0.16.0-py37h1de35cc_0 --> 0.17.3-py37haf1e3a3_0\n",
      "  pytest                                       5.4.1-py37_0 --> 6.1.0-py37_0\n",
      "  python-graphviz                                 0.14-py_0 --> 0.14.1-py_0\n",
      "  python-libarchive~ pkgs/main/osx-64::python-libarchive-c~ --> pkgs/main/noarch::python-libarchive-c-2.9-py_0\n",
      "  python.app                                       2-py37_9 --> 2-py37_10\n",
      "  pytz                                          2019.3-py_0 --> 2020.1-py_0\n",
      "  pywavelets                           1.1.1-py37h1de35cc_0 --> 1.1.1-py37haf1e3a3_2\n",
      "  pyyaml                               5.3.1-py37h1de35cc_0 --> 5.3.1-py37haf1e3a3_1\n",
      "  pyzmq                               18.1.1-py37h0a44026_0 --> 19.0.2-py37hb1e8313_1\n",
      "  qdarkstyle                                       2.8-py_0 --> 2.8.1-py_0\n",
      "  qtawesome                                      0.7.0-py_0 --> 0.7.2-py_0\n",
      "  qtconsole                                      4.7.2-py_0 --> 4.7.7-py_0\n",
      "  regex                             2020.6.8-py37haf1e3a3_0 --> 2020.7.14-py37haf1e3a3_0\n",
      "  requests           pkgs/main/osx-64::requests-2.23.0-py3~ --> pkgs/main/noarch::requests-2.24.0-py_0\n",
      "  ripgrep                                 11.0.2-he32d670_0 --> 12.1.1-0\n",
      "  rope                                          0.16.0-py_0 --> 0.17.0-py_0\n",
      "  rsa                             conda-forge::rsa-4.0-py_0 --> pkgs/main::rsa-4.6-py_0\n",
      "  rtree                                        0.9.3-py37_0 --> 0.9.4-py37_1\n",
      "  ruamel_yaml                        0.15.87-py37h1de35cc_0 --> 0.15.87-py37haf1e3a3_1\n",
      "  scikit-learn                        0.22.1-py37h27c97d8_0 --> 0.23.2-py37h959d312_0\n",
      "  scipy                                1.4.1-py37h9fa6033_0 --> 1.5.2-py37h912ce22_0\n",
      "  seaborn                                       0.10.0-py_0 --> 0.11.0-py_0\n",
      "  setuptools                                  46.1.3-py37_0 --> 50.3.0-py37_0\n",
      "  six                   pkgs/main/osx-64::six-1.14.0-py37_0 --> pkgs/main/noarch::six-1.15.0-py_0\n",
      "  smart_open         conda-forge::smart_open-2.0.0-pyh9f0a~ --> pkgs/main::smart_open-2.2.0-py_0\n",
      "  snappy                                   1.1.7-he62c110_3 --> 1.1.8-hb1e8313_0\n",
      "  sortedcollections  pkgs/main/osx-64::sortedcollections-1~ --> pkgs/main/noarch::sortedcollections-1.2.1-py_0\n",
      "  sortedcontainers   pkgs/main/osx-64::sortedcontainers-2.~ --> pkgs/main/noarch::sortedcontainers-2.2.2-py_0\n",
      "  soupsieve                                        2.0-py_0 --> 2.0.1-py_0\n",
      "  spacy              conda-forge::spacy-2.2.3-py37ha1b3eb9~ --> pkgs/main::spacy-2.3.2-py37h879752b_0\n",
      "  sphinx                                         2.4.4-py_0 --> 3.2.1-py_0\n",
      "  sphinxcontrib-web~                             1.2.1-py_0 --> 1.2.4-py_0\n",
      "  spyder-kernels                               1.9.0-py37_0 --> 1.9.4-py37_0\n",
      "  sqlalchemy                          1.3.15-py37h1de35cc_1 --> 1.3.19-py37haf1e3a3_0\n",
      "  sqlite                                  3.31.1-ha441bb4_0 --> 3.33.0-hffcf06c_0\n",
      "  srsly              conda-forge::srsly-1.0.0-py37h4a8c4bd~ --> pkgs/main::srsly-1.0.2-py37h6de7cb9_0\n",
      "  statsmodels                         0.11.0-py37h1de35cc_0 --> 0.11.1-py37haf1e3a3_0\n",
      "  sympy                                        1.5.1-py37_0 --> 1.6.2-py37_0\n",
      "  tbb                                     2020.0-h04f5b5a_0 --> 2020.3-h879752b_0\n",
      "  tblib                                          1.6.0-py_0 --> 1.7.0-py_0\n",
      "  thinc              conda-forge::thinc-7.3.0-py37ha1b3eb9~ --> pkgs/main::thinc-7.4.1-py37h879752b_0\n",
      "  tk                                       8.6.8-ha441bb4_0 --> 8.6.10-hb0a8c7a_0\n",
      "  toolz                                         0.10.0-py_0 --> 0.11.1-py_0\n",
      "  tqdm                                          4.46.0-py_0 --> 4.50.0-py_0\n",
      "  traitlets          pkgs/main/osx-64::traitlets-4.3.3-py3~ --> pkgs/main/noarch::traitlets-5.0.4-py_0\n",
      "  typing_extensions  pkgs/main/osx-64::typing_extensions-3~ --> pkgs/main/noarch::typing_extensions-3.7.4.3-py_0\n",
      "  urllib3            pkgs/main/osx-64::urllib3-1.25.8-py37~ --> pkgs/main/noarch::urllib3-1.25.10-py_0\n",
      "  wasabi                     conda-forge::wasabi-0.6.0-py_0 --> pkgs/main::wasabi-0.8.0-py_0\n",
      "  watchdog                            0.10.2-py37h1de35cc_0 --> 0.10.3-py37haf1e3a3_0\n",
      "  wcwidth                                        0.1.9-py_0 --> 0.2.5-py_0\n",
      "  werkzeug                                       1.0.0-py_0 --> 1.0.1-py_0\n",
      "  wheel               pkgs/main/osx-64::wheel-0.34.2-py37_0 --> pkgs/main/noarch::wheel-0.35.1-py_0\n",
      "  wurlitzer                                    2.0.0-py37_0 --> 2.0.1-py37_0\n",
      "  xlsxwriter                                     1.2.8-py_0 --> 1.3.4-py_0\n",
      "  xlwings                                     0.18.0-py37_0 --> 0.20.7-py37_0\n",
      "  xz                                       5.2.4-h1de35cc_4 --> 5.2.5-h1de35cc_0\n",
      "  yaml                                     0.1.7-hc338f04_2 --> 0.2.5-haf1e3a3_0\n",
      "  yapf                                          0.28.0-py_0 --> 0.30.0-py_0\n",
      "  zeromq                                   4.3.1-h0a44026_3 --> 4.3.2-hb1e8313_3\n",
      "  zipp                                           2.2.0-py_0 --> 3.1.0-py_0\n",
      "  zstd                                     1.3.7-h5bba6e5_0 --> 1.4.5-h41d2c2f_0\n",
      "\n",
      "The following packages will be SUPERSEDED by a higher-priority channel:\n",
      "\n",
      "  cymem              conda-forge::cymem-2.0.3-py37h570ac47~ --> pkgs/main::cymem-2.0.3-py37hb1e8313_0\n",
      "  cython-blis        conda-forge::cython-blis-0.4.1-py37h9~ --> pkgs/main::cython-blis-0.4.1-py37haf1e3a3_1\n",
      "  gensim             conda-forge::gensim-3.8.3-py37h570ac4~ --> pkgs/main::gensim-3.8.0-py37h6440ff4_0\n",
      "  libcxx              conda-forge::libcxx-10.0.0-h1af66ff_2 --> pkgs/main::libcxx-10.0.0-1\n",
      "  preshed            conda-forge::preshed-3.0.2-py37h570ac~ --> pkgs/main::preshed-3.0.2-py37h0a44026_1\n",
      "  pyasn1                                        conda-forge --> pkgs/main\n",
      "  s3transfer         conda-forge::s3transfer-0.1.13-py37_1~ --> pkgs/main::s3transfer-0.1.13-py37_0\n",
      "\n",
      "The following packages will be DOWNGRADED:\n",
      "\n",
      "  jsonschema                                   3.2.0-py37_0 --> 3.0.2-py37_0\n",
      "  lzo                                       2.10-h362108e_2 --> 2.10-haf1e3a3_2\n",
      "  wrapt                               1.12.1-py37h1de35cc_1 --> 1.11.2-py37h1de35cc_0\n",
      "\n",
      "\n",
      "\n",
      "Downloading and Extracting Packages\n"
     ]
    },
    {
     "name": "stdout",
     "output_type": "stream",
     "text": [
      "pygments-2.7.1       | 671 KB    | ##################################### | 100% \n",
      "libcrc32c-1.1.1      | 20 KB     | ##################################### | 100% \n",
      "pcre-8.44            | 185 KB    | ##################################### | 100% \n",
      "google-cloud-storage | 65 KB     | ##################################### | 100% \n",
      "smart_open-2.2.0     | 78 KB     | ##################################### | 100% \n",
      "cloudpickle-1.6.0    | 30 KB     | ##################################### | 100% \n",
      "pyyaml-5.3.1         | 165 KB    | ##################################### | 100% \n",
      "libllvm9-9.0.1       | 15.4 MB   | ##################################### | 100% \n",
      "ncurses-6.2          | 749 KB    | ##################################### | 100% \n",
      "libedit-3.1.20191231 | 96 KB     | ##################################### | 100% \n",
      "pyrsistent-0.17.3    | 87 KB     | ##################################### | 100% \n",
      "threadpoolctl-2.1.0  | 17 KB     | ##################################### | 100% \n",
      "intervaltree-3.1.0   | 26 KB     | ##################################### | 100% \n",
      "autopep8-1.5.4       | 42 KB     | ##################################### | 100% \n",
      "libxslt-1.1.34       | 395 KB    | ##################################### | 100% \n",
      "srsly-1.0.2          | 180 KB    | ##################################### | 100% \n",
      "pytest-6.1.0         | 408 KB    | ##################################### | 100% \n",
      "qdarkstyle-2.8.1     | 176 KB    | ##################################### | 100% \n",
      "qtawesome-0.7.2      | 724 KB    | ##################################### | 100% \n",
      "sphinxcontrib-websup | 34 KB     | ##################################### | 100% \n",
      "diff-match-patch-202 | 36 KB     | ##################################### | 100% \n",
      "numpy-base-1.19.1    | 4.0 MB    | ##################################### | 100% \n",
      "jupyterlab-2.2.6     | 3.4 MB    | ##################################### | 100% \n",
      "tblib-1.7.0          | 16 KB     | ##################################### | 100% \n",
      "sortedcollections-1. | 13 KB     | ##################################### | 100% \n",
      "wcwidth-0.2.5        | 29 KB     | ##################################### | 100% \n",
      "jupyterlab_server-1. | 25 KB     | ##################################### | 100% \n",
      "nest-asyncio-1.4.1   | 10 KB     | ##################################### | 100% \n",
      "py-lief-0.10.1       | 1022 KB   | ##################################### | 100% \n",
      "setuptools-50.3.0    | 737 KB    | ##################################### | 100% \n",
      "sympy-1.6.2          | 8.6 MB    | ##################################### | 100% \n",
      "libxml2-2.9.10       | 1.1 MB    | ##################################### | 100% \n",
      "gensim-3.8.0         | 18.4 MB   | ##################################### | 100% \n",
      "traitlets-5.0.4      | 82 KB     | ##################################### | 100% \n",
      "sortedcontainers-2.2 | 29 KB     | ##################################### | 100% \n",
      "gevent-20.9.0        | 1.4 MB    | ##################################### | 100% \n",
      "pixman-0.40.0        | 340 KB    | ##################################### | 100% \n",
      "dbus-1.13.16         | 451 KB    | ##################################### | 100% \n",
      "numpy-1.19.1         | 21 KB     | ##################################### | 100% \n",
      "cymem-2.0.3          | 32 KB     | ##################################### | 100% \n",
      "bleach-3.2.1         | 112 KB    | ##################################### | 100% \n",
      "cython-blis-0.4.1    | 1.1 MB    | ##################################### | 100% \n",
      "typing_extensions-3. | 28 KB     | ##################################### | 100% \n",
      "wasabi-0.8.0         | 22 KB     | ##################################### | 100% \n",
      "prompt_toolkit-3.0.7 | 12 KB     | ##################################### | 100% \n",
      "pydocstyle-5.1.1     | 38 KB     | ##################################### | 100% \n",
      "packaging-20.4       | 36 KB     | ##################################### | 100% \n",
      "imageio-2.9.0        | 3.0 MB    | ##################################### | 100% \n",
      "xlsxwriter-1.3.4     | 108 KB    | ##################################### | 100% \n",
      "pyopenssl-19.1.0     | 48 KB     | ##################################### | 100% \n",
      "cytoolz-0.11.0       | 289 KB    | ##################################### | 100% \n",
      "dask-2.29.0          | 5 KB      | ##################################### | 100% \n",
      "zope-1.0             | 4 KB      | ##################################### | 100% \n",
      "conda-package-handli | 1.3 MB    | ##################################### | 100% \n",
      "distributed-2.29.0   | 1005 KB   | ##################################### | 100% \n",
      "html5lib-1.1         | 93 KB     | ##################################### | 100% \n",
      "importlib_metadata-1 | 11 KB     | ##################################### | 100% \n",
      "matplotlib-base-3.3. | 5.1 MB    | ##################################### | 100% \n",
      "scipy-1.5.2          | 13.2 MB   | ##################################### | 100% \n",
      "pywavelets-1.1.1     | 3.4 MB    | ##################################### | 100% \n",
      "importlib-metadata-1 | 52 KB     | ##################################### | 100% \n",
      "xz-5.2.5             | 240 KB    | ##################################### | 100% \n",
      "cython-0.29.21       | 1.8 MB    | ##################################### | 100% \n",
      "pyflakes-2.2.0       | 61 KB     | ##################################### | 100% \n",
      "ipywidgets-7.5.1     | 98 KB     | ##################################### | 100% \n",
      "statsmodels-0.11.1   | 7.4 MB    | ##################################### | 100% \n",
      "pylint-2.6.0         | 436 KB    | ##################################### | 100% \n",
      "spacy-2.3.2          | 4.3 MB    | ##################################### | 100% \n",
      "brotlipy-0.7.0       | 329 KB    | ##################################### | 100% \n",
      "regex-2020.7.14      | 315 KB    | ##################################### | 100% \n",
      "blosc-1.20.0         | 56 KB     | ##################################### | 100% \n",
      "libffi-3.2.1         | 43 KB     | ##################################### | 100% \n",
      "json5-0.9.5          | 22 KB     | ##################################### | 100% \n",
      "libcurl-7.71.1       | 289 KB    | ##################################### | 100% \n",
      "pymongo-3.11.0       | 1.2 MB    | ##################################### | 100% \n",
      "seaborn-0.11.0       | 210 KB    | ##################################### | 100% \n",
      "pyparsing-2.4.7      | 65 KB     | ##################################### | 100% \n",
      "fribidi-1.0.10       | 63 KB     | ##################################### | 100% \n",
      "tqdm-4.50.0          | 56 KB     | ##################################### | 100% \n",
      "keyring-21.4.0       | 52 KB     | ##################################### | 100% \n",
      "zstd-1.4.5           | 442 KB    | ##################################### | 100% \n",
      "idna-2.10            | 50 KB     | ##################################### | 100% \n",
      "google-crc32c-1.0.0  | 23 KB     | ##################################### | 100% \n",
      "numba-0.51.2         | 3.1 MB    | ##################################### | 100% \n",
      "preshed-3.0.2        | 82 KB     | ##################################### | 100% \n",
      "more-itertools-8.5.0 | 43 KB     | ##################################### | 100% \n",
      "click-7.1.2          | 71 KB     | ##################################### | 100% \n",
      "nbclient-0.5.0       | 58 KB     | ##################################### | 100% \n",
      "rsa-4.6              | 26 KB     | ##################################### | 100% \n",
      "sqlite-3.33.0        | 1.3 MB    | ##################################### | 100% \n",
      "libcxx-10.0.0        | 760 KB    | ##################################### | 100% \n",
      "urllib3-1.25.10      | 98 KB     | ##################################### | 100% \n",
      "catalogue-1.0.0      | 15 KB     | ##################################### | 100% \n",
      "llvm-openmp-10.0.0   | 236 KB    | ##################################### | 100% \n",
      "dask-core-2.29.0     | 604 KB    | ##################################### | 100% \n",
      "tbb-2020.3           | 147 KB    | ##################################### | 100% \n",
      "yaml-0.2.5           | 72 KB     | ##################################### | 100% \n",
      "bitarray-1.5.3       | 90 KB     | ##################################### | 100% \n",
      "astropy-4.0.1.post1  | 6.0 MB    | ##################################### | 100% \n",
      "murmurhash-1.0.2     | 23 KB     | ##################################### | 100% \n",
      "bottleneck-1.3.2     | 107 KB    | ##################################### | 100% \n"
     ]
    },
    {
     "name": "stdout",
     "output_type": "stream",
     "text": [
      "requests-2.24.0      | 56 KB     | ##################################### | 100% \n",
      "asn1crypto-1.4.0     | 80 KB     | ##################################### | 100% \n",
      "atomicwrites-1.4.0   | 11 KB     | ##################################### | 100% \n",
      "zope.interface-5.1.0 | 276 KB    | ##################################### | 100% \n",
      "pyasn1-modules-0.2.8 | 72 KB     | ##################################### | 100% \n",
      "lxml-4.5.2           | 1.1 MB    | ##################################### | 100% \n",
      "iniconfig-1.0.1      | 8 KB      | ##################################### | 100% \n",
      "sqlalchemy-1.3.19    | 1.5 MB    | ##################################### | 100% \n",
      "openpyxl-3.0.5       | 158 KB    | ##################################### | 100% \n",
      "openssl-1.1.1h       | 2.2 MB    | ##################################### | 100% \n",
      "googleapis-common-pr | 82 KB     | ##################################### | 100% \n",
      "werkzeug-1.0.1       | 240 KB    | ##################################### | 100% \n",
      "psutil-5.7.2         | 337 KB    | ##################################### | 100% \n",
      "mpfr-4.0.2           | 433 KB    | ##################################### | 100% \n",
      "snappy-1.1.8         | 54 KB     | ##################################### | 100% \n",
      "jmespath-0.10.0      | 23 KB     | ##################################### | 100% \n",
      "pycodestyle-2.6.0    | 43 KB     | ##################################### | 100% \n",
      "xlwings-0.20.7       | 427 KB    | ##################################### | 100% \n",
      "flask-1.1.2          | 78 KB     | ##################################### | 100% \n",
      "python-graphviz-0.14 | 20 KB     | ##################################### | 100% \n",
      "py-1.9.0             | 79 KB     | ##################################### | 100% \n",
      "zeromq-4.3.2         | 421 KB    | ##################################### | 100% \n",
      "pyasn1-0.4.8         | 57 KB     | ##################################### | 100% \n",
      "jinja2-2.11.2        | 103 KB    | ##################################### | 100% \n",
      "zope.event-4.4       | 9 KB      | ##################################### | 100% \n",
      "et_xmlfile-1.0.1     | 12 KB     | ##################################### | 100% \n",
      "libprotobuf-3.13.0   | 1.7 MB    | ##################################### | 100% \n",
      "multidict-4.7.6      | 58 KB     | ##################################### | 100% \n",
      "pycparser-2.20       | 94 KB     | ##################################### | 100% \n",
      "typed-ast-1.4.1      | 184 KB    | ##################################### | 100% \n",
      "matplotlib-3.3.1     | 24 KB     | ##################################### | 100% \n",
      "flake8-3.8.4         | 128 KB    | ##################################### | 100% \n",
      "ruamel_yaml-0.15.87  | 235 KB    | ##################################### | 100% \n",
      "protobuf-3.13.0      | 632 KB    | ##################################### | 100% \n",
      "jupyterlab_pygments- | 8 KB      | ##################################### | 100% \n",
      "numpydoc-1.1.0       | 42 KB     | ##################################### | 100% \n",
      "libllvm10-10.0.1     | 16.4 MB   | ##################################### | 100% \n",
      "google-cloud-core-1. | 25 KB     | ##################################### | 100% \n",
      "toolz-0.11.1         | 48 KB     | ##################################### | 100% \n",
      "mkl_fft-1.2.0        | 141 KB    | ##################################### | 100% \n",
      "lz4-c-1.9.2          | 142 KB    | ##################################### | 100% \n",
      "isort-5.5.4          | 144 KB    | ##################################### | 100% \n",
      "krb5-1.18.2          | 1.1 MB    | ##################################### | 100% \n",
      "joblib-0.17.0        | 206 KB    | ##################################### | 100% \n",
      "libsodium-1.0.18     | 236 KB    | ##################################### | 100% \n",
      "nbconvert-6.0.7      | 484 KB    | ##################################### | 100% \n",
      "pycrypto-2.6.1       | 365 KB    | ##################################### | 100% \n",
      "aiohttp-3.6.2        | 513 KB    | ##################################### | 100% \n",
      "networkx-2.5         | 1.1 MB    | ##################################### | 100% \n",
      "tk-8.6.10            | 3.0 MB    | ##################################### | 100% \n",
      "qtconsole-4.7.7      | 96 KB     | ##################################### | 100% \n",
      "async-timeout-3.0.1  | 12 KB     | ##################################### | 100% \n",
      "jupyter_console-6.2. | 26 KB     | ##################################### | 100% \n",
      "greenlet-0.4.17      | 20 KB     | ##################################### | 100% \n",
      "libtiff-4.1.0        | 405 KB    | ##################################### | 100% \n",
      "watchdog-0.10.3      | 97 KB     | ##################################### | 100% \n",
      "astroid-2.4.2        | 279 KB    | ##################################### | 100% \n",
      "notebook-6.1.4       | 4.1 MB    | ##################################### | 100% \n",
      "conda-4.8.5          | 2.9 MB    | ##################################### | 100% \n",
      "wheel-0.35.1         | 37 KB     | ##################################### | 100% \n",
      "icu-58.2             | 10.1 MB   | ##################################### | 100% \n",
      "argon2-cffi-20.1.0   | 44 KB     | ##################################### | 100% \n",
      "lzo-2.10             | 141 KB    | ##################################### | 100% \n",
      "ipython-7.18.1       | 989 KB    | ##################################### | 100% \n",
      "sphinx-3.2.1         | 1.1 MB    | ##################################### | 100% \n",
      "rtree-0.9.4          | 47 KB     | ##################################### | 100% \n",
      "wurlitzer-2.0.1      | 14 KB     | ##################################### | 100% \n",
      "prompt-toolkit-3.0.7 | 248 KB    | ##################################### | 100% \n",
      "nbformat-5.0.7       | 89 KB     | ##################################### | 100% \n",
      "google-api-core-1.22 | 98 KB     | ##################################### | 100% \n",
      "python-libarchive-c- | 46 KB     | ##################################### | 100% \n",
      "spyder-kernels-1.9.4 | 98 KB     | ##################################### | 100% \n",
      "attrs-20.2.0         | 42 KB     | ##################################### | 100% \n",
      "six-1.15.0           | 13 KB     | ##################################### | 100% \n",
      "pyzmq-19.0.2         | 397 KB    | ##################################### | 100% \n",
      "yarl-1.5.1           | 128 KB    | ##################################### | 100% \n",
      "s3transfer-0.1.13    | 81 KB     | ##################################### | 100% \n",
      "appscript-1.1.1      | 130 KB    | ##################################### | 100% \n",
      "bokeh-2.2.1          | 5.4 MB    | ##################################### | 100% \n",
      "soupsieve-2.0.1      | 33 KB     | ##################################### | 100% \n",
      "fsspec-0.8.0         | 70 KB     | ##################################### | 100% \n",
      "libarchive-3.4.2     | 711 KB    | ##################################### | 100% \n",
      "pillow-7.2.0         | 581 KB    | ##################################### | 100% \n",
      "pandoc-2.10.1        | 13.8 MB   | ##################################### | 100% \n",
      "cryptography-3.1.1   | 544 KB    | ##################################### | 100% \n",
      "async_generator-1.10 | 39 KB     | ##################################### | 100% \n",
      "backcall-0.2.0       | 15 KB     | ##################################### | 100% \n",
      "thinc-7.4.1          | 1.0 MB    | ##################################### | 100% \n",
      "python.app-2         | 1.4 MB    | ##################################### | 100% \n",
      "conda-build-3.20.3   | 536 KB    | ##################################### | 100% \n",
      "path.py-12.5.0       | 4 KB      | ##################################### | 100% \n",
      "mock-4.0.2           | 32 KB     | ##################################### | 100% \n",
      "path-15.0.0          | 38 KB     | ##################################### | 100% \n",
      "ipykernel-5.3.4      | 182 KB    | ##################################### | 100% \n",
      "_anaconda_depends-20 | 6 KB      | ##################################### | 100% \n",
      "libiconv-1.16        | 693 KB    | ##################################### | 100% \n",
      "prometheus_client-0. | 47 KB     | ##################################### | 100% \n",
      "cachetools-4.1.1     | 12 KB     | ##################################### | 100% \n",
      "docutils-0.16        | 667 KB    | ##################################### | 100% \n",
      "freetype-2.10.2      | 570 KB    | ##################################### | 100% \n",
      "graphite2-1.3.14     | 80 KB     | ##################################### | 100% \n"
     ]
    },
    {
     "name": "stdout",
     "output_type": "stream",
     "text": [
      "plac-0.9.6           | 40 KB     | ##################################### | 100% \n",
      "ripgrep-12.1.1       | 1.3 MB    | ##################################### | 100% \n",
      "kiwisolver-1.2.0     | 55 KB     | ##################################### | 100% \n",
      "pip-20.2.3           | 1.7 MB    | ##################################### | 100% \n",
      "toml-0.10.1          | 20 KB     | ##################################### | 100% \n",
      "pandas-1.1.2         | 7.8 MB    | ##################################### | 100% \n",
      "zipp-3.1.0           | 13 KB     | ##################################### | 100% \n",
      "lcms2-2.11           | 278 KB    | ##################################### | 100% \n",
      "future-0.18.2        | 630 KB    | ##################################### | 100% \n",
      "expat-2.2.9          | 112 KB    | ##################################### | 100% \n",
      "pytz-2020.1          | 184 KB    | ##################################### | 100% \n",
      "scikit-learn-0.23.2  | 4.7 MB    | ##################################### | 100% \n",
      "rope-0.17.0          | 127 KB    | ##################################### | 100% \n",
      "google-resumable-med | 38 KB     | ##################################### | 100% \n",
      "beautifulsoup4-4.9.3 | 91 KB     | ##################################### | 100% \n",
      "mkl_random-1.1.1     | 284 KB    | ##################################### | 100% \n",
      "yapf-0.30.0          | 127 KB    | ##################################### | 100% \n",
      "liblief-0.10.1       | 1.5 MB    | ##################################### | 100% \n",
      "google-auth-1.22.0   | 61 KB     | ##################################### | 100% \n",
      "curl-7.71.1          | 129 KB    | ##################################### | 100% \n",
      "jupyter_client-6.1.7 | 77 KB     | ##################################### | 100% \n",
      "llvmlite-0.34.0      | 248 KB    | ##################################### | 100% \n",
      "Preparing transaction: done\n",
      "Verifying transaction: done\n",
      "Executing transaction: done\n",
      "\n",
      "Note: you may need to restart the kernel to use updated packages.\n"
     ]
    }
   ],
   "source": [
    "conda update --all"
   ]
  },
  {
   "cell_type": "code",
   "execution_count": 35,
   "metadata": {},
   "outputs": [
    {
     "name": "stdout",
     "output_type": "stream",
     "text": [
      "3.7.7 (default, Mar 26 2020, 10:32:53) \n",
      "[Clang 4.0.1 (tags/RELEASE_401/final)]\n"
     ]
    }
   ],
   "source": [
    "print(sys.version)"
   ]
  },
  {
   "cell_type": "code",
   "execution_count": 36,
   "metadata": {},
   "outputs": [],
   "source": [
    "fc = open('data.txt', 'r')\n",
    "strc = fc.read()\n",
    "fc.close()"
   ]
  },
  {
   "cell_type": "code",
   "execution_count": 37,
   "metadata": {},
   "outputs": [
    {
     "data": {
      "text/plain": [
       "['hi', 'hello', 'salaam']"
      ]
     },
     "execution_count": 37,
     "metadata": {},
     "output_type": "execute_result"
    }
   ],
   "source": [
    "strx = \"hi hello salaam\"\n",
    "strx.split()"
   ]
  },
  {
   "cell_type": "code",
   "execution_count": 39,
   "metadata": {},
   "outputs": [
    {
     "name": "stdout",
     "output_type": "stream",
     "text": [
      "['aa', '234', '567', 'yy']\n",
      "['dd', '678', '234', 'tt']\n",
      "['rr', '789', '097', 'rt']\n",
      "['ff', '239', '504', 'ww']\n",
      "['kt', '106', '587', 'ui']\n"
     ]
    }
   ],
   "source": [
    "listc = strc.splitlines()\n",
    "\n",
    "for line in listc:\n",
    "    temp = line.split()\n",
    "    print(temp)"
   ]
  },
  {
   "cell_type": "code",
   "execution_count": 40,
   "metadata": {},
   "outputs": [
    {
     "name": "stdout",
     "output_type": "stream",
     "text": [
      "234\n",
      "678\n",
      "789\n",
      "239\n",
      "106\n"
     ]
    }
   ],
   "source": [
    "listc = strc.splitlines()\n",
    "\n",
    "col_2 = []\n",
    "\n",
    "for line in listc:\n",
    "    temp = line.split()\n",
    "    print(temp[1])"
   ]
  },
  {
   "cell_type": "code",
   "execution_count": 41,
   "metadata": {},
   "outputs": [],
   "source": [
    "fc = open('data.txt', 'r')\n",
    "strc = fc.read()\n",
    "fc.close()\n",
    "\n",
    "listc = strc.splitlines()\n",
    "\n",
    "col_2 = []\n",
    "\n",
    "for line in listc:\n",
    "    temp = line.split()\n",
    "    col_2.append(temp[1])"
   ]
  },
  {
   "cell_type": "code",
   "execution_count": 42,
   "metadata": {},
   "outputs": [
    {
     "name": "stdout",
     "output_type": "stream",
     "text": [
      "['234', '678', '789', '239', '106']\n"
     ]
    }
   ],
   "source": [
    "print(col_2)"
   ]
  },
  {
   "cell_type": "code",
   "execution_count": 46,
   "metadata": {},
   "outputs": [],
   "source": [
    "fc = open('data.txt', 'r')\n",
    "strc = fc.read()\n",
    "fc.close()\n",
    "\n",
    "fd = open(\"new_data.txt\", \"w\")\n",
    "\n",
    "listc = strc.splitlines()\n",
    "\n",
    "for line in listc:\n",
    "    temp = line.split()\n",
    "    if int(temp[1]) > 600:\n",
    "        temp[1] = int(temp[1]) + 100\n",
    "        \n",
    "    for val in temp:\n",
    "        fd.write(str(val)+ ' ')\n",
    "    fd.write(\"\\n\")\n",
    "fd.close()"
   ]
  },
  {
   "cell_type": "code",
   "execution_count": 47,
   "metadata": {},
   "outputs": [
    {
     "name": "stdout",
     "output_type": "stream",
     "text": [
      "['aa', '234', '567', 'yy']\n",
      "['dd', 778, '234', 'tt']\n",
      "['rr', 889, '097', 'rt']\n",
      "['ff', '239', '504', 'ww']\n",
      "['kt', '106', '587', 'ui']\n"
     ]
    }
   ],
   "source": [
    "fc = open('data.txt', 'r')\n",
    "strc = fc.read()\n",
    "fc.close()\n",
    "\n",
    "fd = open(\"new_data.txt\", \"w\")\n",
    "\n",
    "listc = strc.splitlines()\n",
    "\n",
    "for line in listc:\n",
    "    temp = line.split()\n",
    "    if int(temp[1]) > 600:\n",
    "        temp[1] = int(temp[1]) + 100\n",
    "#    print(temp)\n",
    "    for val in temp:\n",
    "        fd.write(str(val)+ ' ')\n",
    "    fd.write(\"\\n\")\n",
    "fd.close()"
   ]
  },
  {
   "cell_type": "code",
   "execution_count": null,
   "metadata": {},
   "outputs": [],
   "source": []
  }
 ],
 "metadata": {
  "kernelspec": {
   "display_name": "Python 3",
   "language": "python",
   "name": "python3"
  },
  "language_info": {
   "codemirror_mode": {
    "name": "ipython",
    "version": 3
   },
   "file_extension": ".py",
   "mimetype": "text/x-python",
   "name": "python",
   "nbconvert_exporter": "python",
   "pygments_lexer": "ipython3",
   "version": "3.7.7"
  }
 },
 "nbformat": 4,
 "nbformat_minor": 4
}
