{
 "cells": [
  {
   "cell_type": "code",
   "execution_count": 1,
   "metadata": {},
   "outputs": [],
   "source": [
    "cities = ['amsterdam', 'cairo', 'hongkong', 'los angeles', 'new delhi', \n",
    "          'prague', 'riyadh', 'seol', 'shanghai', 'toronto']"
   ]
  },
  {
   "cell_type": "code",
   "execution_count": 2,
   "metadata": {},
   "outputs": [
    {
     "name": "stdout",
     "output_type": "stream",
     "text": [
      "10\n"
     ]
    }
   ],
   "source": [
    "print(len(cities))"
   ]
  },
  {
   "cell_type": "code",
   "execution_count": 4,
   "metadata": {},
   "outputs": [
    {
     "name": "stdout",
     "output_type": "stream",
     "text": [
      "x = amsterdam\n",
      "x = cairo\n",
      "x = hongkong\n",
      "x = los angeles\n",
      "x = new delhi\n",
      "x = prague\n",
      "x = riyadh\n",
      "x = seol\n",
      "x = shanghai\n",
      "x = toronto\n"
     ]
    }
   ],
   "source": [
    "for x in cities:\n",
    "    print(\"x =\", x) "
   ]
  },
  {
   "cell_type": "code",
   "execution_count": 5,
   "metadata": {},
   "outputs": [],
   "source": [
    "tup_a = (5, 7, 3, 9, 12, 4, 6)"
   ]
  },
  {
   "cell_type": "code",
   "execution_count": 6,
   "metadata": {},
   "outputs": [
    {
     "name": "stdout",
     "output_type": "stream",
     "text": [
      "5\n",
      "7\n",
      "3\n",
      "9\n",
      "12\n",
      "4\n",
      "6\n"
     ]
    }
   ],
   "source": [
    "for val in tup_a:\n",
    "    print(val)"
   ]
  },
  {
   "cell_type": "code",
   "execution_count": 7,
   "metadata": {},
   "outputs": [],
   "source": [
    "cities = ['amsterdam', 'cairo', 'hongkong', 'los angeles', 'new delhi', \n",
    "          'prague', 'riyadh', 'seol', 'shanghai', 'toronto']"
   ]
  },
  {
   "cell_type": "code",
   "execution_count": 8,
   "metadata": {},
   "outputs": [
    {
     "name": "stdout",
     "output_type": "stream",
     "text": [
      "val = amsterdam\n",
      "val = cairo\n",
      "val = hongkong\n",
      "val = los angeles\n",
      "val = new delhi\n",
      "val = prague\n",
      "val = riyadh\n",
      "val = seol\n",
      "val = shanghai\n",
      "val = toronto\n"
     ]
    }
   ],
   "source": [
    "for val in cities:\n",
    "    print(\"val =\", val) "
   ]
  },
  {
   "cell_type": "code",
   "execution_count": 9,
   "metadata": {},
   "outputs": [
    {
     "name": "stdout",
     "output_type": "stream",
     "text": [
      "amsterdam\n",
      "cairo\n",
      "hongkong\n",
      "los angeles\n",
      "new delhi\n",
      "prague\n",
      "riyadh\n",
      "seol\n",
      "shanghai\n",
      "toronto\n"
     ]
    }
   ],
   "source": [
    "for mohammed in cities:\n",
    "    print(mohammed) "
   ]
  },
  {
   "cell_type": "code",
   "execution_count": 13,
   "metadata": {},
   "outputs": [],
   "source": [
    "favourite = ['seol', 'madrid', 'riyadh', 'geneva', 'oslo', 'libson']"
   ]
  },
  {
   "cell_type": "code",
   "execution_count": 14,
   "metadata": {},
   "outputs": [],
   "source": [
    "cities = ['amsterdam', 'cairo', 'hongkong', 'los angeles', 'new delhi', \n",
    "          'prague', 'riyadh', 'seol', 'shanghai', 'toronto']"
   ]
  },
  {
   "cell_type": "code",
   "execution_count": 12,
   "metadata": {},
   "outputs": [],
   "source": [
    "#  find common cities & put it in another list"
   ]
  },
  {
   "cell_type": "code",
   "execution_count": 15,
   "metadata": {},
   "outputs": [
    {
     "name": "stdout",
     "output_type": "stream",
     "text": [
      "seol\n",
      "riyadh\n"
     ]
    }
   ],
   "source": [
    "for x in favourite:\n",
    "    if x in cities:\n",
    "        print(x)"
   ]
  },
  {
   "cell_type": "code",
   "execution_count": 16,
   "metadata": {},
   "outputs": [],
   "source": [
    "common = [] \n",
    "\n",
    "for x in favourite:\n",
    "    if x in cities:\n",
    "        common.append(x)"
   ]
  },
  {
   "cell_type": "code",
   "execution_count": 17,
   "metadata": {},
   "outputs": [
    {
     "name": "stdout",
     "output_type": "stream",
     "text": [
      "['seol', 'riyadh']\n"
     ]
    }
   ],
   "source": [
    "print(common)"
   ]
  },
  {
   "cell_type": "code",
   "execution_count": 18,
   "metadata": {},
   "outputs": [
    {
     "name": "stdout",
     "output_type": "stream",
     "text": [
      "0\n",
      "1\n",
      "2\n",
      "3\n"
     ]
    }
   ],
   "source": [
    "for i in range(4):        #   0 to 3\n",
    "    print(i)"
   ]
  },
  {
   "cell_type": "code",
   "execution_count": 19,
   "metadata": {},
   "outputs": [
    {
     "name": "stdout",
     "output_type": "stream",
     "text": [
      "2\n",
      "3\n",
      "4\n",
      "5\n",
      "6\n",
      "7\n"
     ]
    }
   ],
   "source": [
    "for i in range(2, 8):        #   2 to 7\n",
    "    print(i)"
   ]
  },
  {
   "cell_type": "code",
   "execution_count": 2,
   "metadata": {},
   "outputs": [
    {
     "name": "stdout",
     "output_type": "stream",
     "text": [
      "hello\n",
      "hello\n",
      "hello\n",
      "hello\n",
      "hello\n"
     ]
    }
   ],
   "source": [
    "for i in range(5):\n",
    "    print(\"hello\")\n",
    "    # code "
   ]
  },
  {
   "cell_type": "code",
   "execution_count": 3,
   "metadata": {},
   "outputs": [
    {
     "name": "stdout",
     "output_type": "stream",
     "text": [
      "hello\n",
      "hello\n",
      "hello\n"
     ]
    }
   ],
   "source": [
    "for x in range(3):\n",
    "    print(\"hello\")"
   ]
  },
  {
   "cell_type": "code",
   "execution_count": 4,
   "metadata": {},
   "outputs": [
    {
     "name": "stdout",
     "output_type": "stream",
     "text": [
      "hello\n",
      "hello\n",
      "hello\n",
      "hello\n"
     ]
    }
   ],
   "source": [
    "for x in range(2, 6):                   # x= 2, 3, 4, 5\n",
    "    # any code that we write will run 4 times \n",
    "    print(\"hello\")"
   ]
  },
  {
   "cell_type": "code",
   "execution_count": null,
   "metadata": {},
   "outputs": [],
   "source": []
  }
 ],
 "metadata": {
  "kernelspec": {
   "display_name": "Python 3",
   "language": "python",
   "name": "python3"
  },
  "language_info": {
   "codemirror_mode": {
    "name": "ipython",
    "version": 3
   },
   "file_extension": ".py",
   "mimetype": "text/x-python",
   "name": "python",
   "nbconvert_exporter": "python",
   "pygments_lexer": "ipython3",
   "version": "3.7.7"
  }
 },
 "nbformat": 4,
 "nbformat_minor": 4
}
