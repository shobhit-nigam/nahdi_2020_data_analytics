{
 "cells": [
  {
   "cell_type": "code",
   "execution_count": 1,
   "metadata": {},
   "outputs": [
    {
     "name": "stdout",
     "output_type": "stream",
     "text": [
      "you have passed\n"
     ]
    }
   ],
   "source": [
    "marks = 66\n",
    "\n",
    "if marks < 35:                  # if markes are less than 35\n",
    "    print(\"appear again for exam\")\n",
    "else:\n",
    "    print(\"you have passed\")"
   ]
  },
  {
   "cell_type": "code",
   "execution_count": 2,
   "metadata": {},
   "outputs": [
    {
     "name": "stdout",
     "output_type": "stream",
     "text": [
      "congratulations\n",
      "you have passed\n"
     ]
    }
   ],
   "source": [
    "if marks < 35:                  \n",
    "    print(\"appear again for exam\")\n",
    "    print(\"do you need extra classed\")\n",
    "    #  long code \n",
    "else:\n",
    "    print(\"congratulations\")\n",
    "    print(\"you have passed\") "
   ]
  },
  {
   "cell_type": "code",
   "execution_count": 3,
   "metadata": {},
   "outputs": [],
   "source": [
    "marks = 30"
   ]
  },
  {
   "cell_type": "code",
   "execution_count": 5,
   "metadata": {},
   "outputs": [
    {
     "name": "stdout",
     "output_type": "stream",
     "text": [
      "appear again for exam\n",
      "do you need extra classes ?\n"
     ]
    }
   ],
   "source": [
    "if marks < 35:                  \n",
    "    print(\"appear again for exam\")\n",
    "    print(\"do you need extra classes ?\")\n",
    "    #  long code \n",
    "else:\n",
    "    print(\"congratulations\")\n",
    "    print(\"you have passed\") "
   ]
  },
  {
   "cell_type": "code",
   "execution_count": 6,
   "metadata": {},
   "outputs": [
    {
     "name": "stdout",
     "output_type": "stream",
     "text": [
      "appear again for exam\n",
      "do you need extra classes ?\n"
     ]
    }
   ],
   "source": [
    "if marks < 35:                  \n",
    "    print(\"appear again for exam\")\n",
    "    print(\"do you need extra classes ?\")\n",
    "elif marks >= 35 and marks <= 50:\n",
    "    print(\"you have passed\")\n",
    "    print(\"but you are not elegible for science in higher studies\")\n",
    "elif marks >50 and marks <60:\n",
    "    print(\"congrats, you have got second class\")\n",
    "elif marks >= 60 and marks < 75:\n",
    "    print(\"congrats, you have got second class\")\n",
    "else:\n",
    "    print(\"congratulations, you have recieved disctinction\")"
   ]
  },
  {
   "cell_type": "code",
   "execution_count": 7,
   "metadata": {},
   "outputs": [
    {
     "name": "stdout",
     "output_type": "stream",
     "text": [
      "you have passed\n",
      "but you are not elegible for science in higher studies\n"
     ]
    }
   ],
   "source": [
    "marks = 49\n",
    "\n",
    "if marks < 35:                  \n",
    "    print(\"appear again for exam\")\n",
    "    print(\"do you need extra classes ?\")\n",
    "elif marks >= 35 and marks <= 50:\n",
    "    print(\"you have passed\")\n",
    "    print(\"but you are not elegible for science in higher studies\")\n",
    "elif marks >50 and marks <60:\n",
    "    print(\"congrats, you have got second class\")\n",
    "elif marks >= 60 and marks < 75:\n",
    "    print(\"congrats, you have got second class\")\n",
    "else:\n",
    "    print(\"congratulations, you have recieved disctinction\")"
   ]
  },
  {
   "cell_type": "code",
   "execution_count": 9,
   "metadata": {},
   "outputs": [
    {
     "name": "stdout",
     "output_type": "stream",
     "text": [
      "congrats, you have got first class\n"
     ]
    }
   ],
   "source": [
    "marks = 73\n",
    "\n",
    "if marks < 35:                  \n",
    "    print(\"appear again for exam\")\n",
    "    print(\"do you need extra classes ?\")\n",
    "elif marks >= 35 and marks <= 50:\n",
    "    print(\"you have passed\")\n",
    "    print(\"but you are not elegible for science in higher studies\")\n",
    "elif marks >50 and marks <60:\n",
    "    print(\"congrats, you have got second class\")\n",
    "elif marks >= 60 and marks < 75:\n",
    "    print(\"congrats, you have got first class\")\n",
    "else:\n",
    "    print(\"congratulations, you have recieved disctinction\")"
   ]
  },
  {
   "cell_type": "code",
   "execution_count": 10,
   "metadata": {},
   "outputs": [
    {
     "name": "stdout",
     "output_type": "stream",
     "text": [
      "congratulations, you have recieved disctinction\n"
     ]
    }
   ],
   "source": [
    "marks = 83\n",
    "\n",
    "if marks < 35:                  \n",
    "    print(\"appear again for exam\")\n",
    "    print(\"do you need extra classes ?\")\n",
    "elif marks >= 35 and marks <= 50:\n",
    "    print(\"you have passed\")\n",
    "    print(\"but you are not elegible for science in higher studies\")\n",
    "elif marks >50 and marks <60:\n",
    "    print(\"congrats, you have got second class\")\n",
    "elif marks >= 60 and marks < 75:\n",
    "    print(\"congrats, you have got first class\")\n",
    "else:\n",
    "    print(\"congratulations, you have recieved disctinction\")"
   ]
  },
  {
   "cell_type": "code",
   "execution_count": 11,
   "metadata": {},
   "outputs": [
    {
     "name": "stdout",
     "output_type": "stream",
     "text": [
      "congratulations, you have recieved disctinction\n",
      "last line\n"
     ]
    }
   ],
   "source": [
    "marks = 83\n",
    "\n",
    "if marks < 35:                  \n",
    "    print(\"appear again for exam\")\n",
    "    print(\"do you need extra classes ?\")\n",
    "elif marks >= 35 and marks <= 50:\n",
    "    print(\"you have passed\")\n",
    "    print(\"but you are not elegible for science in higher studies\")\n",
    "elif marks >50 and marks <60:\n",
    "    print(\"congrats, you have got second class\")\n",
    "elif marks >= 60 and marks < 75:\n",
    "    pass           # means do nothing\n",
    "else:\n",
    "    print(\"congratulations, you have recieved disctinction\")\n",
    "    \n",
    "print(\"last line\") \n",
    "\n",
    "# key word"
   ]
  },
  {
   "cell_type": "code",
   "execution_count": 13,
   "metadata": {},
   "outputs": [
    {
     "name": "stdout",
     "output_type": "stream",
     "text": [
      "last line, this is outside the if-else\n"
     ]
    }
   ],
   "source": [
    "marks = 70\n",
    "\n",
    "if marks < 35:                  \n",
    "    print(\"appear again for exam\")\n",
    "    print(\"do you need extra classes ?\")\n",
    "elif marks >= 35 and marks <= 50:\n",
    "    print(\"you have passed\")\n",
    "    print(\"but you are not elegible for science in higher studies\")\n",
    "elif marks >50 and marks <60:\n",
    "    print(\"congrats, you have got second class\")\n",
    "elif marks >= 60 and marks < 75:\n",
    "    pass           # means do nothing\n",
    "else:\n",
    "    print(\"congratulations, you have recieved disctinction\")\n",
    "    \n",
    "print(\"last line, this is outside the if-else\") \n",
    "\n",
    "# key word"
   ]
  },
  {
   "cell_type": "code",
   "execution_count": 15,
   "metadata": {},
   "outputs": [],
   "source": [
    "#    cost less than 500, discount of 3%\n",
    "#    cost more than 500, discount of 5%\n",
    "#    cost more than 1000, discount of 8%\n",
    "#    cost more than 1500, discount of 10%"
   ]
  },
  {
   "cell_type": "code",
   "execution_count": 16,
   "metadata": {
    "scrolled": true
   },
   "outputs": [
    {
     "name": "stdout",
     "output_type": "stream",
     "text": [
      "400\n",
      "please pay =  388\n"
     ]
    }
   ],
   "source": [
    "price = int(input())\n",
    "\n",
    "\n",
    "if price>500 and price <=1000:\n",
    "    pay = price * 0.95\n",
    "    print(\"please pay = \", round(pay))\n",
    "elif price>1000 and price <=1500:\n",
    "    pay = price * 0.92\n",
    "    print(\"please pay = \", round(pay))\n",
    "elif price>1500:\n",
    "    pay = price * 0.90\n",
    "    print(\"please pay = \", round(pay))\n",
    "else:\n",
    "    pay = price * 0.97\n",
    "    print(\"please pay = \", round(pay)) "
   ]
  },
  {
   "cell_type": "code",
   "execution_count": 17,
   "metadata": {},
   "outputs": [
    {
     "data": {
      "text/plain": [
       "35"
      ]
     },
     "execution_count": 17,
     "metadata": {},
     "output_type": "execute_result"
    }
   ],
   "source": [
    "round(34.678)"
   ]
  },
  {
   "cell_type": "code",
   "execution_count": 18,
   "metadata": {},
   "outputs": [],
   "source": [
    "#    cost less than 500, or first time customer, discount of 3%\n",
    "#    cost more than 500, or regular customer discount of 5%\n",
    "#    cost more than 1000, or premiuim customer discount of 8%\n",
    "#    cost more than 1500, or company employee discount of 10%"
   ]
  },
  {
   "cell_type": "code",
   "execution_count": 19,
   "metadata": {},
   "outputs": [],
   "source": [
    "varx = 30\n",
    "vary = 40\n",
    "varz = 50"
   ]
  },
  {
   "cell_type": "code",
   "execution_count": 20,
   "metadata": {},
   "outputs": [
    {
     "name": "stdout",
     "output_type": "stream",
     "text": [
      "hi\n"
     ]
    }
   ],
   "source": [
    "if varx > 40 and vary < 60:\n",
    "    print(\"hello\")\n",
    "else:\n",
    "    print(\"hi\")"
   ]
  },
  {
   "cell_type": "code",
   "execution_count": 21,
   "metadata": {},
   "outputs": [
    {
     "name": "stdout",
     "output_type": "stream",
     "text": [
      "hello\n"
     ]
    }
   ],
   "source": [
    "if varx > 40 or vary < 60:\n",
    "    print(\"hello\")\n",
    "else:\n",
    "    print(\"hi\")"
   ]
  },
  {
   "cell_type": "code",
   "execution_count": 22,
   "metadata": {},
   "outputs": [
    {
     "name": "stdout",
     "output_type": "stream",
     "text": [
      "A\n"
     ]
    }
   ],
   "source": [
    "if varx < 100:\n",
    "    print(\"A\")\n",
    "elif varx < 200:\n",
    "    print(\"B\")\n",
    "elif varx < 50:\n",
    "    print(\"C\")"
   ]
  },
  {
   "cell_type": "code",
   "execution_count": null,
   "metadata": {},
   "outputs": [],
   "source": []
  }
 ],
 "metadata": {
  "kernelspec": {
   "display_name": "Python 3",
   "language": "python",
   "name": "python3"
  },
  "language_info": {
   "codemirror_mode": {
    "name": "ipython",
    "version": 3
   },
   "file_extension": ".py",
   "mimetype": "text/x-python",
   "name": "python",
   "nbconvert_exporter": "python",
   "pygments_lexer": "ipython3",
   "version": "3.7.7"
  }
 },
 "nbformat": 4,
 "nbformat_minor": 4
}
