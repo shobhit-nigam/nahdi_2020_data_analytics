{
 "cells": [
  {
   "cell_type": "code",
   "execution_count": 3,
   "metadata": {},
   "outputs": [],
   "source": [
    "def greet():\n",
    "    #   complex code goes inside function\n",
    "    print(\"assalaam 'alaikum\")\n",
    "    print(\"hello , how are you\")"
   ]
  },
  {
   "cell_type": "code",
   "execution_count": 4,
   "metadata": {},
   "outputs": [
    {
     "name": "stdout",
     "output_type": "stream",
     "text": [
      "assalaam 'alaikum\n",
      "hello , how are you\n"
     ]
    }
   ],
   "source": [
    "greet()"
   ]
  },
  {
   "cell_type": "code",
   "execution_count": 5,
   "metadata": {},
   "outputs": [
    {
     "name": "stdout",
     "output_type": "stream",
     "text": [
      "assalaam 'alaikum\n",
      "hello , how are you\n"
     ]
    }
   ],
   "source": [
    "greet()"
   ]
  },
  {
   "cell_type": "code",
   "execution_count": 6,
   "metadata": {},
   "outputs": [],
   "source": [
    "def toPay(price):\n",
    "    if price>500 and price <=1000:\n",
    "        pay = price * 0.95\n",
    "        print(\"please pay = \", round(pay))\n",
    "    elif price>1000 and price <=1500:\n",
    "        pay = price * 0.92\n",
    "        print(\"please pay = \", round(pay))\n",
    "    elif price>1500:\n",
    "        pay = price * 0.90\n",
    "        print(\"please pay = \", round(pay))\n",
    "    else:\n",
    "        pay = price * 0.97\n",
    "        print(\"please pay = \", round(pay)) "
   ]
  },
  {
   "cell_type": "code",
   "execution_count": 7,
   "metadata": {},
   "outputs": [
    {
     "name": "stdout",
     "output_type": "stream",
     "text": [
      "please pay =  2070\n"
     ]
    }
   ],
   "source": [
    "toPay(2300)"
   ]
  },
  {
   "cell_type": "code",
   "execution_count": 8,
   "metadata": {},
   "outputs": [
    {
     "name": "stdout",
     "output_type": "stream",
     "text": [
      "please pay =  1104\n"
     ]
    }
   ],
   "source": [
    "toPay(1200)"
   ]
  },
  {
   "cell_type": "code",
   "execution_count": 9,
   "metadata": {},
   "outputs": [
    {
     "data": {
      "text/plain": [
       "40"
      ]
     },
     "execution_count": 9,
     "metadata": {},
     "output_type": "execute_result"
    }
   ],
   "source": [
    "lista = [7, 9, 2, 4, 7, 8, 3]\n",
    "sum(lista)"
   ]
  },
  {
   "cell_type": "code",
   "execution_count": 10,
   "metadata": {},
   "outputs": [],
   "source": [
    "lista.sort()"
   ]
  },
  {
   "cell_type": "code",
   "execution_count": 12,
   "metadata": {},
   "outputs": [
    {
     "name": "stdout",
     "output_type": "stream",
     "text": [
      "[2, 3, 4, 7, 7, 8, 9]\n"
     ]
    }
   ],
   "source": [
    "print(lista)"
   ]
  },
  {
   "cell_type": "code",
   "execution_count": 13,
   "metadata": {},
   "outputs": [],
   "source": [
    "#       two currencies allowed, rial & rupee\n",
    "#       check the currency type, \n",
    "#       make the conversion\n",
    "#       add transaction charges"
   ]
  },
  {
   "cell_type": "code",
   "execution_count": 14,
   "metadata": {},
   "outputs": [],
   "source": [
    "def toPay(price, cur):\n",
    "    if price>500 and price <=1000:\n",
    "        pay = price * 0.95\n",
    "    elif price>1000 and price <=1500:\n",
    "        pay = price * 0.92\n",
    "    elif price>1500:\n",
    "        pay = price * 0.90\n",
    "    else:\n",
    "        pay = price * 0.97\n",
    "        \n",
    "    if cur == 'rial':\n",
    "        pay = pay*0.27\n",
    "        pay = pay + pay*0.001     # transaction charges\n",
    "        print(\"please pay\", round(pay), \"dollars\")\n",
    "    elif cur == 'rupee':\n",
    "        pay = pay*0.014\n",
    "        pay = pay + pay*0.0005     # transaction charges\n",
    "        print(\"please pay\", round(pay), \"dollars\")        "
   ]
  },
  {
   "cell_type": "code",
   "execution_count": 15,
   "metadata": {},
   "outputs": [
    {
     "name": "stdout",
     "output_type": "stream",
     "text": [
      "please pay 681 dollars\n"
     ]
    }
   ],
   "source": [
    "toPay(2800, \"rial\")"
   ]
  },
  {
   "cell_type": "code",
   "execution_count": 16,
   "metadata": {},
   "outputs": [
    {
     "name": "stdout",
     "output_type": "stream",
     "text": [
      "please pay 35 dollars\n"
     ]
    }
   ],
   "source": [
    "toPay(2800, \"rupee\")"
   ]
  },
  {
   "cell_type": "code",
   "execution_count": 17,
   "metadata": {},
   "outputs": [],
   "source": [
    "def funca(la, lb, lc):\n",
    "    print(\"la =\", la)\n",
    "    print(\"lb =\", lb)\n",
    "    print(\"lc =\", lc)"
   ]
  },
  {
   "cell_type": "code",
   "execution_count": 18,
   "metadata": {},
   "outputs": [
    {
     "name": "stdout",
     "output_type": "stream",
     "text": [
      "la = 11\n",
      "lb = 22\n",
      "lc = 33\n"
     ]
    }
   ],
   "source": [
    "funca(11, 22, 33)"
   ]
  },
  {
   "cell_type": "code",
   "execution_count": 19,
   "metadata": {},
   "outputs": [
    {
     "ename": "TypeError",
     "evalue": "funca() missing 1 required positional argument: 'lc'",
     "output_type": "error",
     "traceback": [
      "\u001b[0;31m---------------------------------------------------------------------------\u001b[0m",
      "\u001b[0;31mTypeError\u001b[0m                                 Traceback (most recent call last)",
      "\u001b[0;32m<ipython-input-19-c5a17a4756d9>\u001b[0m in \u001b[0;36m<module>\u001b[0;34m\u001b[0m\n\u001b[0;32m----> 1\u001b[0;31m \u001b[0mfunca\u001b[0m\u001b[0;34m(\u001b[0m\u001b[0;36m11\u001b[0m\u001b[0;34m,\u001b[0m \u001b[0;36m22\u001b[0m\u001b[0;34m)\u001b[0m\u001b[0;34m\u001b[0m\u001b[0;34m\u001b[0m\u001b[0m\n\u001b[0m",
      "\u001b[0;31mTypeError\u001b[0m: funca() missing 1 required positional argument: 'lc'"
     ]
    }
   ],
   "source": [
    "funca(11, 22)"
   ]
  },
  {
   "cell_type": "code",
   "execution_count": 20,
   "metadata": {},
   "outputs": [
    {
     "ename": "TypeError",
     "evalue": "funca() takes 3 positional arguments but 4 were given",
     "output_type": "error",
     "traceback": [
      "\u001b[0;31m---------------------------------------------------------------------------\u001b[0m",
      "\u001b[0;31mTypeError\u001b[0m                                 Traceback (most recent call last)",
      "\u001b[0;32m<ipython-input-20-7a69b1808de3>\u001b[0m in \u001b[0;36m<module>\u001b[0;34m\u001b[0m\n\u001b[0;32m----> 1\u001b[0;31m \u001b[0mfunca\u001b[0m\u001b[0;34m(\u001b[0m\u001b[0;36m11\u001b[0m\u001b[0;34m,\u001b[0m \u001b[0;36m22\u001b[0m\u001b[0;34m,\u001b[0m \u001b[0;36m33\u001b[0m\u001b[0;34m,\u001b[0m \u001b[0;36m44\u001b[0m\u001b[0;34m)\u001b[0m\u001b[0;34m\u001b[0m\u001b[0;34m\u001b[0m\u001b[0m\n\u001b[0m",
      "\u001b[0;31mTypeError\u001b[0m: funca() takes 3 positional arguments but 4 were given"
     ]
    }
   ],
   "source": [
    "funca(11, 22, 33, 44)"
   ]
  },
  {
   "cell_type": "code",
   "execution_count": 21,
   "metadata": {},
   "outputs": [],
   "source": [
    "def funca(la, lb=100, lc=200):\n",
    "    print(\"la =\", la)\n",
    "    print(\"lb =\", lb)\n",
    "    print(\"lc =\", lc)"
   ]
  },
  {
   "cell_type": "code",
   "execution_count": 22,
   "metadata": {},
   "outputs": [
    {
     "name": "stdout",
     "output_type": "stream",
     "text": [
      "la = 11\n",
      "lb = 22\n",
      "lc = 33\n"
     ]
    }
   ],
   "source": [
    "funca(11, 22, 33)"
   ]
  },
  {
   "cell_type": "code",
   "execution_count": 23,
   "metadata": {},
   "outputs": [
    {
     "name": "stdout",
     "output_type": "stream",
     "text": [
      "la = 11\n",
      "lb = 22\n",
      "lc = 200\n"
     ]
    }
   ],
   "source": [
    "funca(11, 22)"
   ]
  },
  {
   "cell_type": "code",
   "execution_count": 24,
   "metadata": {},
   "outputs": [
    {
     "name": "stdout",
     "output_type": "stream",
     "text": [
      "la = 99\n",
      "lb = 100\n",
      "lc = 200\n"
     ]
    }
   ],
   "source": [
    "funca(99)"
   ]
  },
  {
   "cell_type": "code",
   "execution_count": 25,
   "metadata": {},
   "outputs": [
    {
     "ename": "TypeError",
     "evalue": "funca() missing 1 required positional argument: 'la'",
     "output_type": "error",
     "traceback": [
      "\u001b[0;31m---------------------------------------------------------------------------\u001b[0m",
      "\u001b[0;31mTypeError\u001b[0m                                 Traceback (most recent call last)",
      "\u001b[0;32m<ipython-input-25-cf9529241c1e>\u001b[0m in \u001b[0;36m<module>\u001b[0;34m\u001b[0m\n\u001b[0;32m----> 1\u001b[0;31m \u001b[0mfunca\u001b[0m\u001b[0;34m(\u001b[0m\u001b[0;34m)\u001b[0m\u001b[0;34m\u001b[0m\u001b[0;34m\u001b[0m\u001b[0m\n\u001b[0m",
      "\u001b[0;31mTypeError\u001b[0m: funca() missing 1 required positional argument: 'la'"
     ]
    }
   ],
   "source": [
    "funca()"
   ]
  },
  {
   "cell_type": "code",
   "execution_count": 26,
   "metadata": {},
   "outputs": [],
   "source": [
    "def toPay(price, cur='rial'):\n",
    "    if price>500 and price <=1000:\n",
    "        pay = price * 0.95\n",
    "    elif price>1000 and price <=1500:\n",
    "        pay = price * 0.92\n",
    "    elif price>1500:\n",
    "        pay = price * 0.90\n",
    "    else:\n",
    "        pay = price * 0.97\n",
    "        \n",
    "    if cur == 'rial':\n",
    "        pay = pay*0.27\n",
    "        pay = pay + pay*0.001     # transaction charges\n",
    "        print(\"please pay\", round(pay), \"dollars\")\n",
    "    elif cur == 'rupee':\n",
    "        pay = pay*0.014\n",
    "        pay = pay + pay*0.0005     # transaction charges\n",
    "        print(\"please pay\", round(pay), \"dollars\")  "
   ]
  },
  {
   "cell_type": "code",
   "execution_count": 27,
   "metadata": {},
   "outputs": [
    {
     "name": "stdout",
     "output_type": "stream",
     "text": [
      "please pay 50 dollars\n"
     ]
    }
   ],
   "source": [
    "toPay(4000, \"rupee\")"
   ]
  },
  {
   "cell_type": "code",
   "execution_count": 29,
   "metadata": {},
   "outputs": [
    {
     "name": "stdout",
     "output_type": "stream",
     "text": [
      "please pay 973 dollars\n"
     ]
    }
   ],
   "source": [
    "toPay(4000)"
   ]
  },
  {
   "cell_type": "code",
   "execution_count": 30,
   "metadata": {},
   "outputs": [
    {
     "ename": "SyntaxError",
     "evalue": "non-default argument follows default argument (<ipython-input-30-29024b9f2f43>, line 1)",
     "output_type": "error",
     "traceback": [
      "\u001b[0;36m  File \u001b[0;32m\"<ipython-input-30-29024b9f2f43>\"\u001b[0;36m, line \u001b[0;32m1\u001b[0m\n\u001b[0;31m    def funca(la=300, lb, lc=200):\u001b[0m\n\u001b[0m             ^\u001b[0m\n\u001b[0;31mSyntaxError\u001b[0m\u001b[0;31m:\u001b[0m non-default argument follows default argument\n"
     ]
    }
   ],
   "source": [
    "def funca(la=300, lb, lc=200):\n",
    "    print(\"la =\", la)\n",
    "    print(\"lb =\", lb)\n",
    "    print(\"lc =\", lc)"
   ]
  },
  {
   "cell_type": "code",
   "execution_count": 31,
   "metadata": {},
   "outputs": [],
   "source": [
    "lista = [7, 9, 2, 4, 7, 8, 3]\n",
    "s = sum(lista)"
   ]
  },
  {
   "cell_type": "code",
   "execution_count": 32,
   "metadata": {},
   "outputs": [
    {
     "name": "stdout",
     "output_type": "stream",
     "text": [
      "40\n"
     ]
    }
   ],
   "source": [
    "print(s)"
   ]
  },
  {
   "cell_type": "code",
   "execution_count": 33,
   "metadata": {},
   "outputs": [],
   "source": [
    "def add(la=0, lb=0, lc=0):\n",
    "    print(\"la =\", la)\n",
    "    print(\"lb =\", lb)\n",
    "    print(\"lc =\", lc)\n",
    "    ld = la + lb + lc\n",
    "    return ld "
   ]
  },
  {
   "cell_type": "code",
   "execution_count": 34,
   "metadata": {},
   "outputs": [
    {
     "name": "stdout",
     "output_type": "stream",
     "text": [
      "la = 176.67\n",
      "lb = 87.34\n",
      "lc = 67.98\n"
     ]
    }
   ],
   "source": [
    "x = add(176.67, 87.34, 67.98)      # x = ld"
   ]
  },
  {
   "cell_type": "code",
   "execution_count": 35,
   "metadata": {},
   "outputs": [
    {
     "name": "stdout",
     "output_type": "stream",
     "text": [
      "331.99\n"
     ]
    }
   ],
   "source": [
    "print(x)"
   ]
  },
  {
   "cell_type": "code",
   "execution_count": 47,
   "metadata": {},
   "outputs": [],
   "source": [
    "def add(la=0, lb=0, lc=0):\n",
    "    print(\"la =\", la)\n",
    "    print(\"lb =\", lb)\n",
    "    print(\"lc =\", lc)\n",
    "    ld = la + lb + lc\n",
    "    return ld"
   ]
  },
  {
   "cell_type": "code",
   "execution_count": 50,
   "metadata": {},
   "outputs": [
    {
     "name": "stdout",
     "output_type": "stream",
     "text": [
      "la = 176.67\n",
      "lb = 87.34\n",
      "lc = 67.98\n"
     ]
    }
   ],
   "source": [
    "x = add(176.67, 87.34, 67.98)"
   ]
  },
  {
   "cell_type": "code",
   "execution_count": 43,
   "metadata": {},
   "outputs": [
    {
     "ename": "NameError",
     "evalue": "name 'ld' is not defined",
     "output_type": "error",
     "traceback": [
      "\u001b[0;31m---------------------------------------------------------------------------\u001b[0m",
      "\u001b[0;31mNameError\u001b[0m                                 Traceback (most recent call last)",
      "\u001b[0;32m<ipython-input-43-c1fb9912876a>\u001b[0m in \u001b[0;36m<module>\u001b[0;34m\u001b[0m\n\u001b[0;32m----> 1\u001b[0;31m \u001b[0mprint\u001b[0m\u001b[0;34m(\u001b[0m\u001b[0mld\u001b[0m\u001b[0;34m)\u001b[0m\u001b[0;34m\u001b[0m\u001b[0;34m\u001b[0m\u001b[0m\n\u001b[0m",
      "\u001b[0;31mNameError\u001b[0m: name 'ld' is not defined"
     ]
    }
   ],
   "source": [
    "print(ld)"
   ]
  },
  {
   "cell_type": "code",
   "execution_count": 46,
   "metadata": {},
   "outputs": [],
   "source": [
    "#   if you want result here ?"
   ]
  },
  {
   "cell_type": "code",
   "execution_count": 51,
   "metadata": {},
   "outputs": [
    {
     "name": "stdout",
     "output_type": "stream",
     "text": [
      "331.99\n"
     ]
    }
   ],
   "source": [
    "print(x)"
   ]
  },
  {
   "cell_type": "code",
   "execution_count": 52,
   "metadata": {},
   "outputs": [],
   "source": [
    "x = len(\"hello\") "
   ]
  },
  {
   "cell_type": "code",
   "execution_count": 54,
   "metadata": {},
   "outputs": [],
   "source": [
    "def greet():\n",
    "    print(\"assalaam 'alaikum\")\n",
    "    print(\"hello , how are you\")\n",
    "    return 100             # returning random value (no logic or formula)\n",
    "    print(\"hi there\")      # this line does not have any meaning"
   ]
  },
  {
   "cell_type": "code",
   "execution_count": 55,
   "metadata": {},
   "outputs": [
    {
     "name": "stdout",
     "output_type": "stream",
     "text": [
      "assalaam 'alaikum\n",
      "hello , how are you\n"
     ]
    }
   ],
   "source": [
    "y = greet()"
   ]
  },
  {
   "cell_type": "code",
   "execution_count": 56,
   "metadata": {},
   "outputs": [
    {
     "name": "stdout",
     "output_type": "stream",
     "text": [
      "100\n"
     ]
    }
   ],
   "source": [
    "print(y) "
   ]
  },
  {
   "cell_type": "code",
   "execution_count": 57,
   "metadata": {},
   "outputs": [],
   "source": [
    "def greet():\n",
    "    print(\"assalaam 'alaikum\")\n",
    "    print(\"hello , how are you\")\n",
    "                                #   system adds automatic return (None)"
   ]
  },
  {
   "cell_type": "code",
   "execution_count": 58,
   "metadata": {},
   "outputs": [
    {
     "name": "stdout",
     "output_type": "stream",
     "text": [
      "assalaam 'alaikum\n",
      "hello , how are you\n"
     ]
    }
   ],
   "source": [
    "y = greet() "
   ]
  },
  {
   "cell_type": "code",
   "execution_count": 59,
   "metadata": {},
   "outputs": [
    {
     "name": "stdout",
     "output_type": "stream",
     "text": [
      "None\n"
     ]
    }
   ],
   "source": [
    "print(y)"
   ]
  },
  {
   "cell_type": "code",
   "execution_count": 60,
   "metadata": {},
   "outputs": [],
   "source": [
    "def funca(la):\n",
    "    s = sum(la)\n",
    "    a = sum(la)/len(la)\n",
    "    mn = min(la)\n",
    "    mx = max(la)\n",
    "    return s, a, mn, mx"
   ]
  },
  {
   "cell_type": "code",
   "execution_count": 61,
   "metadata": {},
   "outputs": [],
   "source": [
    "listx = [7, 9, 2, 4, 6, 8, 1, 3, 8, 6, 5]"
   ]
  },
  {
   "cell_type": "code",
   "execution_count": 62,
   "metadata": {},
   "outputs": [],
   "source": [
    "summation, average, minimum, maximum = funca(listx)"
   ]
  },
  {
   "cell_type": "code",
   "execution_count": 63,
   "metadata": {},
   "outputs": [
    {
     "name": "stdout",
     "output_type": "stream",
     "text": [
      "5.363636363636363\n"
     ]
    }
   ],
   "source": [
    "print(average)"
   ]
  },
  {
   "cell_type": "code",
   "execution_count": 64,
   "metadata": {},
   "outputs": [
    {
     "name": "stdout",
     "output_type": "stream",
     "text": [
      "please pay 1630 dollars\n"
     ]
    }
   ],
   "source": [
    "toPay(6700, 'rial')"
   ]
  },
  {
   "cell_type": "code",
   "execution_count": 65,
   "metadata": {},
   "outputs": [],
   "source": [
    "i, j, k = 40, 50, 60"
   ]
  },
  {
   "cell_type": "code",
   "execution_count": 66,
   "metadata": {},
   "outputs": [
    {
     "ename": "ValueError",
     "evalue": "too many values to unpack (expected 2)",
     "output_type": "error",
     "traceback": [
      "\u001b[0;31m---------------------------------------------------------------------------\u001b[0m",
      "\u001b[0;31mValueError\u001b[0m                                Traceback (most recent call last)",
      "\u001b[0;32m<ipython-input-66-5dd5507ac6d7>\u001b[0m in \u001b[0;36m<module>\u001b[0;34m\u001b[0m\n\u001b[0;32m----> 1\u001b[0;31m \u001b[0mi\u001b[0m\u001b[0;34m,\u001b[0m \u001b[0mj\u001b[0m \u001b[0;34m=\u001b[0m \u001b[0;36m40\u001b[0m\u001b[0;34m,\u001b[0m \u001b[0;36m50\u001b[0m\u001b[0;34m,\u001b[0m \u001b[0;36m60\u001b[0m\u001b[0;34m\u001b[0m\u001b[0;34m\u001b[0m\u001b[0m\n\u001b[0m",
      "\u001b[0;31mValueError\u001b[0m: too many values to unpack (expected 2)"
     ]
    }
   ],
   "source": [
    "i, j = 40, 50, 60"
   ]
  },
  {
   "cell_type": "code",
   "execution_count": 67,
   "metadata": {},
   "outputs": [],
   "source": [
    "i = j = k = 50"
   ]
  },
  {
   "cell_type": "code",
   "execution_count": 68,
   "metadata": {},
   "outputs": [
    {
     "name": "stdout",
     "output_type": "stream",
     "text": [
      "(59, 5.363636363636363, 1, 9)\n"
     ]
    }
   ],
   "source": [
    "print(funca(listx))"
   ]
  },
  {
   "cell_type": "code",
   "execution_count": 69,
   "metadata": {},
   "outputs": [],
   "source": [
    "summation, average, minimum, maximum = funca(listx)      # 4 different variables\n",
    "\n",
    "y = funca(listx)                                         #  one single tuple "
   ]
  },
  {
   "cell_type": "code",
   "execution_count": 70,
   "metadata": {},
   "outputs": [],
   "source": [
    "def funca(la=300, lb=400, lc=500):\n",
    "    print(\"la =\", la)\n",
    "    print(\"lb =\", lb)\n",
    "    print(\"lc =\", lc)"
   ]
  },
  {
   "cell_type": "code",
   "execution_count": 71,
   "metadata": {},
   "outputs": [
    {
     "name": "stdout",
     "output_type": "stream",
     "text": [
      "la = 300\n",
      "lb = 99\n",
      "lc = 500\n"
     ]
    }
   ],
   "source": [
    "funca(lb=99)"
   ]
  },
  {
   "cell_type": "code",
   "execution_count": null,
   "metadata": {},
   "outputs": [],
   "source": []
  }
 ],
 "metadata": {
  "kernelspec": {
   "display_name": "Python 3",
   "language": "python",
   "name": "python3"
  },
  "language_info": {
   "codemirror_mode": {
    "name": "ipython",
    "version": 3
   },
   "file_extension": ".py",
   "mimetype": "text/x-python",
   "name": "python",
   "nbconvert_exporter": "python",
   "pygments_lexer": "ipython3",
   "version": "3.7.7"
  }
 },
 "nbformat": 4,
 "nbformat_minor": 4
}
