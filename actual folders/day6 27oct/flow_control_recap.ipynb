{
 "cells": [
  {
   "cell_type": "code",
   "execution_count": 6,
   "metadata": {},
   "outputs": [
    {
     "name": "stdout",
     "output_type": "stream",
     "text": [
      "please enter age: 11\n",
      "please enter \"m\" for male, \"f\" for female: m\n",
      "free ice-cream\n"
     ]
    }
   ],
   "source": [
    "age = int(input(\"please enter age: \"))\n",
    "gender = input('please enter \"m\" for male, \"f\" for female: ')\n",
    "\n",
    "if gender=='f' and age> 50:\n",
    "    print(\"specail benefits\")\n",
    "elif gender=='m' and age>60:\n",
    "    print(\"specail benefits\")\n",
    "elif age<12:\n",
    "    print(\"free ice-cream\")\n",
    "else:\n",
    "    print(\"normal benefits\")"
   ]
  },
  {
   "cell_type": "code",
   "execution_count": 15,
   "metadata": {},
   "outputs": [
    {
     "name": "stdout",
     "output_type": "stream",
     "text": [
      "enter the password, attempts remaining = 1\n",
      "········\n",
      "enter the password, attempts remaining = 2\n",
      "········\n",
      "enter the password, attempts remaining = 3\n",
      "········\n"
     ]
    }
   ],
   "source": [
    "attempts = 0\n",
    "\n",
    "while(attempts<3):\n",
    "    attempts = attempts + 1\n",
    "    import getpass\n",
    "    print(\"enter the password, attempts remaining =\", attempts)\n",
    "    p = getpass.getpass()\n",
    "    if p == \"nahdi\":\n",
    "        print(\"successfull\")\n",
    "        break\n",
    "    \n",
    "    "
   ]
  },
  {
   "cell_type": "code",
   "execution_count": 10,
   "metadata": {},
   "outputs": [
    {
     "name": "stdout",
     "output_type": "stream",
     "text": [
      "········\n",
      "success\n"
     ]
    }
   ],
   "source": [
    "import getpass\n",
    "p = getpass.getpass()\n",
    "if p==\"hello\":\n",
    "    print(\"success\")"
   ]
  },
  {
   "cell_type": "code",
   "execution_count": 8,
   "metadata": {},
   "outputs": [
    {
     "name": "stdout",
     "output_type": "stream",
     "text": [
      "hello\n"
     ]
    }
   ],
   "source": [
    "p = input()"
   ]
  },
  {
   "cell_type": "code",
   "execution_count": null,
   "metadata": {},
   "outputs": [],
   "source": [
    "os.getcwd()\n",
    "\n",
    "import os"
   ]
  },
  {
   "cell_type": "code",
   "execution_count": 14,
   "metadata": {},
   "outputs": [
    {
     "name": "stdout",
     "output_type": "stream",
     "text": [
      "enter the password\n",
      "········\n",
      "enter the password\n",
      "········\n",
      "successfull\n"
     ]
    }
   ],
   "source": [
    "attempts = 0\n",
    "\n",
    "while(attempts<3):\n",
    "    import getpass\n",
    "    print(\"enter the password\")\n",
    "    p = getpass.getpass()\n",
    "    if p == \"nahdi\":\n",
    "        print(\"successfull\")\n",
    "        break\n",
    "    attempts = attempts + 1\n",
    "  "
   ]
  },
  {
   "cell_type": "code",
   "execution_count": 17,
   "metadata": {},
   "outputs": [
    {
     "name": "stdout",
     "output_type": "stream",
     "text": [
      "enter the password, attempts left = 3\n",
      "········\n",
      "enter the password, attempts left = 2\n",
      "········\n",
      "enter the password, attempts left = 1\n",
      "········\n"
     ]
    }
   ],
   "source": [
    "attempts = 3\n",
    "\n",
    "while(attempts>0):\n",
    "    import getpass\n",
    "    print(\"enter the password, attempts left =\", attempts)\n",
    "    p = getpass.getpass()\n",
    "    if p == \"nahdi\":\n",
    "        print(\"successfull\")\n",
    "        break\n",
    "    attempts = attempts - 1\n"
   ]
  },
  {
   "cell_type": "code",
   "execution_count": 19,
   "metadata": {},
   "outputs": [
    {
     "name": "stdout",
     "output_type": "stream",
     "text": [
      "enter the password, attempts left = 3\n",
      "········\n",
      "enter the password, attempts left = 2\n",
      "········\n",
      "successfull\n"
     ]
    }
   ],
   "source": [
    "attempts = 3\n",
    "\n",
    "while(attempts>0):\n",
    "    import getpass\n",
    "    print(\"enter the password, attempts left =\", attempts)\n",
    "    p = getpass.getpass()\n",
    "    if p == \"nahdi\":\n",
    "        print(\"successfull\")\n",
    "        break\n",
    "    attempts = attempts - 1"
   ]
  },
  {
   "cell_type": "code",
   "execution_count": 20,
   "metadata": {},
   "outputs": [],
   "source": [
    "#   guess the number"
   ]
  },
  {
   "cell_type": "code",
   "execution_count": 21,
   "metadata": {},
   "outputs": [],
   "source": [
    "number = 20"
   ]
  },
  {
   "cell_type": "code",
   "execution_count": 22,
   "metadata": {},
   "outputs": [
    {
     "name": "stdout",
     "output_type": "stream",
     "text": [
      "guess the number\n",
      "100\n",
      "your guess is too high\n",
      "guess the number\n",
      "50\n",
      "your guess is too high\n",
      "guess the number\n",
      "25\n",
      "your guess is too high\n",
      "guess the number\n",
      "10\n",
      "your guess is too small\n",
      "guess the number\n",
      "18\n",
      "your guess is too small\n",
      "guess the number\n",
      "20\n",
      "congratulations, guessed it correctly\n"
     ]
    }
   ],
   "source": [
    "while True:\n",
    "    print(\"guess the number\")\n",
    "    n = int(input())\n",
    "    \n",
    "    if n < 20:\n",
    "        print(\"your guess is too small\")\n",
    "    elif n > 20:\n",
    "        print(\"your guess is too high\")\n",
    "    else:\n",
    "        #   n==20\n",
    "        print(\"congratulations, guessed it correctly\")\n",
    "        break"
   ]
  },
  {
   "cell_type": "code",
   "execution_count": 23,
   "metadata": {},
   "outputs": [],
   "source": [
    "lista = ['aa', 'bb', 'ff', 'yy', 'ii', 'oo', 'dd']"
   ]
  },
  {
   "cell_type": "code",
   "execution_count": 24,
   "metadata": {},
   "outputs": [
    {
     "name": "stdout",
     "output_type": "stream",
     "text": [
      "i = 0\n",
      "i = 1\n",
      "i = 2\n",
      "i = 3\n",
      "i = 4\n"
     ]
    }
   ],
   "source": [
    "for i in range(5):\n",
    "    print(\"i =\", i)"
   ]
  },
  {
   "cell_type": "code",
   "execution_count": 25,
   "metadata": {},
   "outputs": [
    {
     "data": {
      "text/plain": [
       "range(0, 5)"
      ]
     },
     "execution_count": 25,
     "metadata": {},
     "output_type": "execute_result"
    }
   ],
   "source": [
    "range(5)"
   ]
  },
  {
   "cell_type": "code",
   "execution_count": 30,
   "metadata": {},
   "outputs": [
    {
     "name": "stdout",
     "output_type": "stream",
     "text": [
      "········\n",
      "········\n",
      "········\n",
      "successful after attempts = 3\n"
     ]
    }
   ],
   "source": [
    "for i in range(3):\n",
    "    p = getpass.getpass()\n",
    "    if p == \"nahdi\":\n",
    "        print(\"successful after attempts =\", i+1)\n",
    "        break"
   ]
  },
  {
   "cell_type": "code",
   "execution_count": 27,
   "metadata": {},
   "outputs": [
    {
     "name": "stdout",
     "output_type": "stream",
     "text": [
      "i = 0\n",
      "aa\n",
      "-------\n",
      "i = 1\n",
      "bb\n",
      "-------\n",
      "i = 2\n",
      "ff\n",
      "-------\n",
      "i = 3\n",
      "yy\n",
      "-------\n",
      "i = 4\n",
      "ii\n",
      "-------\n",
      "i = 5\n",
      "oo\n",
      "-------\n",
      "i = 6\n",
      "dd\n",
      "-------\n"
     ]
    }
   ],
   "source": [
    "for i in range(7):\n",
    "    print(\"i =\", i)\n",
    "    print(lista[i])\n",
    "    print(\"-------\")"
   ]
  },
  {
   "cell_type": "code",
   "execution_count": 28,
   "metadata": {},
   "outputs": [
    {
     "name": "stdout",
     "output_type": "stream",
     "text": [
      "i = 0\n",
      "i = 1\n",
      "i = 2\n",
      "i = 3\n",
      "i = 4\n",
      "i = 5\n",
      "i = 6\n"
     ]
    }
   ],
   "source": [
    "for i in range(7):\n",
    "    print(\"i =\", i)"
   ]
  },
  {
   "cell_type": "code",
   "execution_count": 31,
   "metadata": {},
   "outputs": [
    {
     "name": "stdout",
     "output_type": "stream",
     "text": [
      "i = 2\n",
      "i = 3\n",
      "i = 4\n",
      "i = 5\n",
      "i = 6\n"
     ]
    }
   ],
   "source": [
    "for i in range(2, 7):\n",
    "    print(\"i =\", i)"
   ]
  },
  {
   "cell_type": "code",
   "execution_count": 32,
   "metadata": {},
   "outputs": [
    {
     "name": "stdout",
     "output_type": "stream",
     "text": [
      "i = 16\n",
      "i = 20\n",
      "i = 24\n",
      "i = 28\n",
      "i = 32\n",
      "i = 36\n",
      "i = 40\n"
     ]
    }
   ],
   "source": [
    "for i in range(13, 41):\n",
    "    if i%4 == 0:\n",
    "        print(\"i =\", i)"
   ]
  },
  {
   "cell_type": "code",
   "execution_count": 33,
   "metadata": {},
   "outputs": [
    {
     "name": "stdout",
     "output_type": "stream",
     "text": [
      "i = 3\n",
      "i = 7\n",
      "i = 11\n",
      "i = 15\n",
      "i = 19\n",
      "i = 23\n",
      "i = 27\n"
     ]
    }
   ],
   "source": [
    "for i in range(3, 28, 4):\n",
    "    print(\"i =\", i)"
   ]
  },
  {
   "cell_type": "code",
   "execution_count": 34,
   "metadata": {},
   "outputs": [
    {
     "name": "stdout",
     "output_type": "stream",
     "text": [
      "i = -3\n",
      "i = -2\n",
      "i = -1\n",
      "i = 0\n",
      "i = 1\n",
      "i = 2\n",
      "i = 3\n",
      "i = 4\n"
     ]
    }
   ],
   "source": [
    "for i in range(-3, 5):\n",
    "    print(\"i =\", i)"
   ]
  },
  {
   "cell_type": "code",
   "execution_count": 35,
   "metadata": {},
   "outputs": [
    {
     "name": "stdout",
     "output_type": "stream",
     "text": [
      "i = -3\n",
      "i = -1\n",
      "i = 1\n",
      "i = 3\n"
     ]
    }
   ],
   "source": [
    "for i in range(-3, 5, 2):\n",
    "    print(\"i =\", i)"
   ]
  },
  {
   "cell_type": "code",
   "execution_count": 36,
   "metadata": {},
   "outputs": [
    {
     "name": "stdout",
     "output_type": "stream",
     "text": [
      "i = 5\n",
      "i = 4\n",
      "i = 3\n",
      "i = 2\n",
      "i = 1\n",
      "i = 0\n",
      "i = -1\n",
      "i = -2\n"
     ]
    }
   ],
   "source": [
    "for i in range(5, -3, -1):\n",
    "    print(\"i =\", i)"
   ]
  },
  {
   "cell_type": "code",
   "execution_count": 37,
   "metadata": {},
   "outputs": [
    {
     "name": "stdout",
     "output_type": "stream",
     "text": [
      "i = 6\n",
      "dd\n",
      "-------\n",
      "i = 5\n",
      "oo\n",
      "-------\n",
      "i = 4\n",
      "ii\n",
      "-------\n",
      "i = 3\n",
      "yy\n",
      "-------\n",
      "i = 2\n",
      "ff\n",
      "-------\n",
      "i = 1\n",
      "bb\n",
      "-------\n",
      "i = 0\n",
      "aa\n",
      "-------\n"
     ]
    }
   ],
   "source": [
    "for i in range(6, -1, -1):\n",
    "    print(\"i =\", i)\n",
    "    print(lista[i])\n",
    "    print(\"-------\")"
   ]
  },
  {
   "cell_type": "code",
   "execution_count": 40,
   "metadata": {},
   "outputs": [
    {
     "name": "stdout",
     "output_type": "stream",
     "text": [
      "you have 3 attempts\n",
      "········\n",
      "you have 2 attempts\n",
      "········\n",
      "you have 1 attempts\n",
      "········\n"
     ]
    }
   ],
   "source": [
    "for i in range(3, 0, -1):\n",
    "    print(\"you have\", i, \"attempts\")\n",
    "    p = getpass.getpass()\n",
    "    if p == \"nahdi\":\n",
    "        print(\"successful\")\n",
    "        break"
   ]
  },
  {
   "cell_type": "code",
   "execution_count": 41,
   "metadata": {},
   "outputs": [
    {
     "name": "stdout",
     "output_type": "stream",
     "text": [
      "['aa', 'bb', 'ff', 'yy', 'ii', 'oo', 'dd']\n"
     ]
    }
   ],
   "source": [
    "print(lista)"
   ]
  },
  {
   "cell_type": "code",
   "execution_count": 43,
   "metadata": {},
   "outputs": [],
   "source": [
    "lista = ['aa', 'bb', 'ff', 'yy', 'ii', 'oo', 'dd']\n",
    "tup_a = (67, 88, 23, 99, 10, 55, 39)\n",
    "seta = {'apples', 'bananas', 'dates', 'palms', 'melons'}\n",
    "dicta = {'russia':'moscow', 'china':'beijing', 'norway':'oslo'}\n",
    "stra = \"world\""
   ]
  },
  {
   "cell_type": "code",
   "execution_count": 45,
   "metadata": {},
   "outputs": [
    {
     "name": "stdout",
     "output_type": "stream",
     "text": [
      "val = aa\n",
      "val = bb\n",
      "val = ff\n",
      "val = yy\n",
      "val = ii\n",
      "val = oo\n",
      "val = dd\n"
     ]
    }
   ],
   "source": [
    "for val in lista:\n",
    "    print(\"val =\", val)"
   ]
  },
  {
   "cell_type": "code",
   "execution_count": 46,
   "metadata": {},
   "outputs": [
    {
     "name": "stdout",
     "output_type": "stream",
     "text": [
      "val = 67\n",
      "val = 88\n",
      "val = 23\n",
      "val = 99\n",
      "val = 10\n",
      "val = 55\n",
      "val = 39\n"
     ]
    }
   ],
   "source": [
    "for val in tup_a:\n",
    "    print(\"val =\", val)"
   ]
  },
  {
   "cell_type": "code",
   "execution_count": 47,
   "metadata": {},
   "outputs": [
    {
     "name": "stdout",
     "output_type": "stream",
     "text": [
      "val = aa\n",
      "val = bb\n",
      "val = ff\n",
      "val = yy\n",
      "val = ii\n"
     ]
    }
   ],
   "source": [
    "for val in lista:\n",
    "    print(\"val =\", val)\n",
    "    if val == 'ii':\n",
    "        break"
   ]
  },
  {
   "cell_type": "code",
   "execution_count": 48,
   "metadata": {},
   "outputs": [
    {
     "name": "stdout",
     "output_type": "stream",
     "text": [
      "['aa', 'yy', 'dd']\n"
     ]
    }
   ],
   "source": [
    "print(lista[0:7:3])"
   ]
  },
  {
   "cell_type": "code",
   "execution_count": 49,
   "metadata": {},
   "outputs": [
    {
     "name": "stdout",
     "output_type": "stream",
     "text": [
      "val = aa\n",
      "val = yy\n",
      "val = dd\n"
     ]
    }
   ],
   "source": [
    "for val in lista[0:7:3]:\n",
    "    print(\"val =\", val)"
   ]
  },
  {
   "cell_type": "code",
   "execution_count": 50,
   "metadata": {},
   "outputs": [
    {
     "name": "stdout",
     "output_type": "stream",
     "text": [
      "val = w\n",
      "val = o\n",
      "val = r\n",
      "val = l\n",
      "val = d\n"
     ]
    }
   ],
   "source": [
    "for val in stra:\n",
    "    print(\"val =\", val)"
   ]
  },
  {
   "cell_type": "code",
   "execution_count": 51,
   "metadata": {},
   "outputs": [
    {
     "name": "stdout",
     "output_type": "stream",
     "text": [
      "val = h\n",
      "val = o\n",
      "val = w\n",
      "val =  \n",
      "val = a\n",
      "val = r\n",
      "val = e\n",
      "val =  \n",
      "val = y\n",
      "val = o\n",
      "val = u\n"
     ]
    }
   ],
   "source": [
    "for val in \"how are you\":\n",
    "    print(\"val =\", val)"
   ]
  },
  {
   "cell_type": "code",
   "execution_count": 52,
   "metadata": {},
   "outputs": [],
   "source": [
    "lista = ['aa', 'bb', 'ff', 'yy', 'ii', 'oo', 'dd']\n",
    "tup_a = (67, 88, 23, 99, 10, 55, 39)\n",
    "seta = {'apples', 'bananas', 'dates', 'palms', 'melons'}\n",
    "dicta = {'russia':'moscow', 'china':'beijing', 'norway':'oslo'}\n",
    "stra = \"world\""
   ]
  },
  {
   "cell_type": "code",
   "execution_count": 53,
   "metadata": {},
   "outputs": [],
   "source": [
    "stra = \"how are you\""
   ]
  },
  {
   "cell_type": "code",
   "execution_count": 54,
   "metadata": {},
   "outputs": [
    {
     "name": "stdout",
     "output_type": "stream",
     "text": [
      "val = how\n",
      "val = are\n",
      "val = you\n"
     ]
    }
   ],
   "source": [
    "for val in stra.split():\n",
    "    print(\"val =\", val)"
   ]
  },
  {
   "cell_type": "code",
   "execution_count": 55,
   "metadata": {},
   "outputs": [
    {
     "name": "stdout",
     "output_type": "stream",
     "text": [
      "val = how are you\n",
      "val = mohammed\n",
      "val = sultan\n",
      "val = nigam\n"
     ]
    }
   ],
   "source": [
    "stra = \"how are you?mohammed?sultan?nigam\"\n",
    "\n",
    "for val in stra.split('?'):\n",
    "    print(\"val =\", val)"
   ]
  },
  {
   "cell_type": "code",
   "execution_count": 56,
   "metadata": {},
   "outputs": [
    {
     "name": "stdout",
     "output_type": "stream",
     "text": [
      "x = russia\n",
      "x = china\n",
      "x = norway\n"
     ]
    }
   ],
   "source": [
    "dicta = {'russia':'moscow', 'china':'beijing', 'norway':'oslo'}\n",
    "\n",
    "for x in dicta:\n",
    "    print(\"x =\", x)"
   ]
  },
  {
   "cell_type": "code",
   "execution_count": 57,
   "metadata": {},
   "outputs": [
    {
     "name": "stdout",
     "output_type": "stream",
     "text": [
      "val = moscow\n",
      "val = beijing\n",
      "val = oslo\n"
     ]
    }
   ],
   "source": [
    "for x in dicta:\n",
    "    print(\"val =\", dicta[x])"
   ]
  },
  {
   "cell_type": "code",
   "execution_count": 60,
   "metadata": {},
   "outputs": [
    {
     "name": "stdout",
     "output_type": "stream",
     "text": [
      "russia \t moscow\n",
      "china \t beijing\n",
      "norway \t oslo\n"
     ]
    }
   ],
   "source": [
    "for x, y in dicta.items():\n",
    "    print(x, \"\\t\", y)"
   ]
  },
  {
   "cell_type": "code",
   "execution_count": 61,
   "metadata": {},
   "outputs": [
    {
     "name": "stdout",
     "output_type": "stream",
     "text": [
      "russia   moscow\n",
      "china   beijing\n",
      "norway   oslo\n"
     ]
    }
   ],
   "source": [
    "for x, y in dicta.items():\n",
    "    print(x, \" \", y)"
   ]
  },
  {
   "cell_type": "code",
   "execution_count": null,
   "metadata": {},
   "outputs": [],
   "source": []
  }
 ],
 "metadata": {
  "kernelspec": {
   "display_name": "Python 3",
   "language": "python",
   "name": "python3"
  },
  "language_info": {
   "codemirror_mode": {
    "name": "ipython",
    "version": 3
   },
   "file_extension": ".py",
   "mimetype": "text/x-python",
   "name": "python",
   "nbconvert_exporter": "python",
   "pygments_lexer": "ipython3",
   "version": "3.7.7"
  }
 },
 "nbformat": 4,
 "nbformat_minor": 4
}
